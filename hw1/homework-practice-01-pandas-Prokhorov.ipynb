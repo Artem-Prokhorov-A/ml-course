{
 "cells": [
  {
   "cell_type": "markdown",
   "metadata": {
    "id": "HcF9My_FhLuk"
   },
   "source": [
    "## Машинное обучение 1, ПМИ ФКН ВШЭ\n",
    "\n",
    "## Практическое домашнее задание 1\n",
    "\n",
    "### Общая информация\n",
    "\n",
    "Дата выдачи: 09.09.2022\n",
    "\n",
    "Мягкий дедлайн: 23:59MSK 22.09.2022\n",
    "\n",
    "Жесткий дедлайн: 23:59MSK 29.09.2022"
   ]
  },
  {
   "cell_type": "markdown",
   "metadata": {
    "id": "G64TptyJhLuo"
   },
   "source": [
    "### О задании\n",
    "\n",
    "Задание состоит из двух разделов, посвященных работе с табличными данными с помощью библиотеки pandas и визуализации с помощью matplotlib. В первом разделе вам предстоит выполнить базовые задания с помощью вышеуказанных библиотек, а во втором распределить студентов по курсам. Баллы даются за выполнение отдельных пунктов. Задачи в рамках одного раздела рекомендуется решать в том порядке, в котором они даны в задании.\n",
    "\n",
    "Задание направлено на освоение jupyter notebook (будет использоваться в дальнейших заданиях), библиотек pandas и matplotlib.\n",
    "\n",
    "### Оценивание и штрафы\n",
    "Каждая из задач имеет определенную «стоимость» (указана в скобках около задачи). Максимально допустимая оценка за работу — 10 баллов.\n",
    "\n",
    "Сдавать задание после жёсткого дедлайна нельзя. При выставлении неполного балла за задание в связи с наличием ошибок на усмотрение проверяющего предусмотрена возможность исправить работу на указанных в ответном письме условиях.\n",
    "\n",
    "Задание выполняется самостоятельно. «Похожие» решения считаются плагиатом и все задействованные студенты (в том числе те, у кого списали) не могут получить за него больше 0 баллов (подробнее о плагиате см. на странице курса). Если вы нашли решение какого-то из заданий (или его часть) в открытом источнике, необходимо указать ссылку на этот источник (скорее всего вы будете не единственным, кто это нашел, поэтому чтобы исключить подозрение в плагиате, необходима ссылка на источник).\n",
    "\n",
    "### Формат сдачи\n",
    "Задания сдаются через систему Anytask. Инвайт можно получить у семинариста или ассистента. Присылать необходимо ноутбук с выполненным заданием. Сам ноутбук называйте в формате homework-practice-01-pandas-Username.ipynb, где Username — ваша фамилия.\n",
    "\n",
    "Для удобства проверки самостоятельно посчитайте свою максимальную оценку (исходя из набора решенных задач) и укажите ниже.\n",
    "\n",
    "Оценка: 10."
   ]
  },
  {
   "cell_type": "markdown",
   "metadata": {
    "id": "BaXlfHE_hLup"
   },
   "source": [
    "## 0. Введение"
   ]
  },
  {
   "cell_type": "markdown",
   "metadata": {
    "id": "wirAvJNxhLup"
   },
   "source": [
    "Сейчас мы находимся в jupyter-ноутбуке (или ipython-ноутбуке). Это удобная среда для написания кода, проведения экспериментов, изучения данных, построения визуализаций и других нужд, не связанных с написанием production-кода. \n",
    "\n",
    "Ноутбук состоит из ячеек, каждая из которых может быть либо ячейкой с кодом, либо ячейкой с текстом размеченным и неразмеченным. Текст поддерживает markdown-разметку и формулы в Latex.\n",
    "\n",
    "Для работы с содержимым ячейки используется *режим редактирования* (*Edit mode*, включается нажатием клавиши **Enter** после выбора ячейки), а для навигации между ячейками искользуется *командный режим* (*Command mode*, включается нажатием клавиши **Esc**). Тип ячейки можно задать в командном режиме либо с помощью горячих клавиш (**y** to code, **m** to markdown, **r** to edit raw text), либо в меню *Cell -> Cell type*. \n",
    "\n",
    "После заполнения ячейки нужно нажать *Shift + Enter*, эта команда обработает содержимое ячейки: проинтерпретирует код или сверстает размеченный текст."
   ]
  },
  {
   "cell_type": "code",
   "execution_count": null,
   "metadata": {
    "id": "aQ2_j3nkhLuq"
   },
   "outputs": [
    {
     "data": {
      "text/plain": [
       "4"
      ]
     },
     "execution_count": 1,
     "metadata": {},
     "output_type": "execute_result"
    }
   ],
   "source": [
    "# ячейка с кодом, при выполнении которой появится output\n",
    "2 + 2"
   ]
  },
  {
   "cell_type": "markdown",
   "metadata": {
    "id": "ZlulCwVKhLur"
   },
   "source": [
    "Ячейка с неразмеченыным текстом."
   ]
  },
  {
   "cell_type": "markdown",
   "metadata": {
    "id": "A4wkVlIehLur"
   },
   "source": [
    "Попробуйте создать свои ячейки, написать какой-нибудь код и текст какой-нибудь формулой."
   ]
  },
  {
   "cell_type": "code",
   "execution_count": null,
   "metadata": {
    "id": "BIuaYSvqhLus"
   },
   "outputs": [
    {
     "name": "stdout",
     "output_type": "stream",
     "text": [
      "Yes\n"
     ]
    }
   ],
   "source": [
    "# 2 + 2 = 4 ?\n",
    "print('Yes')"
   ]
  },
  {
   "cell_type": "markdown",
   "metadata": {
    "id": "iWs6ljrIhLus"
   },
   "source": [
    "[Здесь](https://athena.brynmawr.edu/jupyter/hub/dblank/public/Jupyter%20Notebook%20Users%20Manual.ipynb) находится <s>не</s>большая заметка о используемом языке разметки Markdown. Он позволяет:\n",
    "\n",
    "0. Составлять упорядоченные списки\n",
    "1. Выделять *текст* <s>при</s> **необходимости**\n",
    "2. Добавлять [ссылки](http://imgs.xkcd.com/comics/the_universal_label.png)\n",
    "\n",
    "\n",
    "* Составлять неупорядоченные списки\n",
    "\n",
    "Делать вставки с помощью LaTex:\n",
    "    \n",
    "$\n",
    "\\left\\{\n",
    "\\begin{array}{ll}\n",
    "x = 16 \\sin^3 (t) \\\\ \n",
    "y = 13 \\cos (t) - 5 \\cos (2t) - 2 \\cos (3t) - \\cos (4t) \\\\\n",
    "t \\in [0, 2 \\pi]\n",
    "\\end{array}\n",
    "\\right.$"
   ]
  },
  {
   "cell_type": "markdown",
   "metadata": {
    "id": "6fmTGcXOhLus"
   },
   "source": [
    "А ещё можно вставлять картинки, или гифки, или что захотите:\n",
    "\n",
    "<img src=\"https://media1.tenor.com/images/9b8fbe9214504bcf6c60fe4e4f7e114e/tenor.gif?itemid=5416416\" style=\"width: 400px\">"
   ]
  },
  {
   "cell_type": "markdown",
   "metadata": {
    "id": "J_toGw7DhLut"
   },
   "source": [
    "### Google Colab"
   ]
  },
  {
   "cell_type": "markdown",
   "metadata": {
    "id": "jpkbCVjGhLut"
   },
   "source": [
    "Что за колаб? \n",
    "\n",
    "**Google Colab (Colaboratory)** это **Jupyter Notebook + Cloud + Google Drive.**\n",
    "\n",
    "Компания Google предоставляет возможность бесплатно запускать ноутбуки (предварительно загрузив их на свой гугл-диск) прямо в облаке. При этом вам не требуется установка никаких пакетов на свою машину, а работать можно прямиком из браузера. Вот ссылка:"
   ]
  },
  {
   "cell_type": "markdown",
   "metadata": {
    "id": "06MQog3yhLut"
   },
   "source": [
    "https://colab.research.google.com"
   ]
  },
  {
   "cell_type": "markdown",
   "metadata": {
    "id": "5_hfWXKPhLut"
   },
   "source": [
    "При использовании вы увидете много сходств с jupyter ноутбуком. Одним из преимуществ является доступность GPU, соответствующую опцию можно активировать в настройках сервиса. При желании вы сможете найти в интернете много туториалов по использованию или разобраться самостоятельно =)"
   ]
  },
  {
   "cell_type": "markdown",
   "metadata": {
    "id": "sUe2vnFGhLuu"
   },
   "source": [
    "## 1. Табличные данные и Pandas"
   ]
  },
  {
   "cell_type": "markdown",
   "metadata": {
    "id": "DJQzjjqJhLuu"
   },
   "source": [
    "Pandas — удобная библиотека для работы с табличными данными в Python, если данных не слишком много и они помещаются в оперативную память вашего компьютера. Несмотря на неэффективность реализации и некоторые проблемы, библиотека стала стандартом в анализе данных.\n",
    "\n",
    "Основной объект в pandas — это DataFrame, представляющий собой таблицу с именованными колонками различных типов, индексом (может быть многоуровневым). DataFrame можно создавать, считывая таблицу из файла или задавая вручную из других объектов.\n",
    "\n",
    "В этой части потребуется выполнить несколько небольших заданий. Можно пойти двумя путями: сначала изучить материалы, а потом приступить к заданиям, или же разбираться \"по ходу\". Выбирайте сами.\n",
    "\n",
    "Материалы:\n",
    "1. [Pandas за 10 минут из официального руководства](http://pandas.pydata.org/pandas-docs/stable/10min.html)\n",
    "2. [Документация](http://pandas.pydata.org/pandas-docs/stable/index.html) (стоит обращаться, если не понятно, как вызывать конкретный метод)\n",
    "3. [Примеры использования функционала](http://nbviewer.jupyter.org/github/justmarkham/pandas-videos/blob/master/pandas.ipynb)\n",
    "\n",
    "Многие из заданий можно выполнить несколькими способами. Не существуют единственно верного, но попробуйте максимально задействовать арсенал pandas и ориентируйтесь на простоту и понятность вашего кода. Мы не будем подсказывать, что нужно использовать для решения конкретной задачи, попробуйте находить необходимый функционал сами (название метода чаще всего очевидно). В помощь вам документация, поиск и stackoverflow."
   ]
  },
  {
   "cell_type": "code",
   "execution_count": null,
   "metadata": {
    "id": "26zbFY25hLuv",
    "outputId": "404c22c6-2696-48ab-c71e-7a3ffbc36b18"
   },
   "outputs": [
    {
     "name": "stdout",
     "output_type": "stream",
     "text": [
      "%pylab is deprecated, use %matplotlib inline and import the required libraries.\n",
      "Populating the interactive namespace from numpy and matplotlib\n"
     ]
    }
   ],
   "source": [
    "%pylab inline\n",
    "import pandas as pd"
   ]
  },
  {
   "cell_type": "markdown",
   "metadata": {},
   "source": [
    "<span style=\"color:red\">Перед выполнением задания необходимо ознакомиться с первым семинаром (seminars/sem01-pandas.ipynb) </span>.\n",
    "\n",
    "Это поможет вам получить общее понимание происходяшего и успешнее справиться с заданием.\n",
    "\n",
    "Также успешному выполнению способствует внимательное чтение текста задания от начала до конца.\n",
    "\n",
    "Удачи!"
   ]
  },
  {
   "cell_type": "markdown",
   "metadata": {
    "id": "dneJl9TyhLuv"
   },
   "source": [
    "Скачаем подготовленные на семинаре данные:"
   ]
  },
  {
   "cell_type": "code",
   "execution_count": null,
   "metadata": {
    "id": "rj_I0RslhLuw"
   },
   "outputs": [],
   "source": [
    "!wget  -O 'end_seminar.xlsx' -q 'https://www.dropbox.com/s/f4rm8sjc3v99p0m/_end_seminar.xlsx?dl=0'"
   ]
  },
  {
   "cell_type": "markdown",
   "metadata": {
    "id": "5hp7bn_ThLuw"
   },
   "source": [
    "Для пользователей Windows: скачайте файл самостоятельно и поместите его в папку с тетрадкой. Или попробуйте один из следующих вариантов:"
   ]
  },
  {
   "cell_type": "code",
   "execution_count": null,
   "metadata": {
    "id": "4h4_BaX8hLuw"
   },
   "outputs": [],
   "source": [
    "# !powershell iwr -outf somefile https://somesite/somefile"
   ]
  },
  {
   "cell_type": "code",
   "execution_count": null,
   "metadata": {
    "id": "7bHroLGChLuw"
   },
   "outputs": [],
   "source": [
    "# !pip install wget\n",
    "# import wget \n",
    "# wget.download('https://dropbox.com/s/f4rm8sjc3v99p0m/_end_seminar.xlsx?dl=1', 'end_seminar.xlsx')"
   ]
  },
  {
   "cell_type": "markdown",
   "metadata": {
    "id": "VFs_6IythLux"
   },
   "source": [
    "##### В первой части задания (до раздела \"Распределение студентов по курсам\") использование циклов запрещается и повлечет за собой снижение оценки. Использование <code>vectorize</code> и  <code>apply</code>, <code>apply_along_axis</code> крайне нежелательно."
   ]
  },
  {
   "cell_type": "markdown",
   "metadata": {
    "id": "shFkfJkohLux"
   },
   "source": [
    "Для каждой задачи из этого раздела вы должны написать код для получения ответа, а также дать текстовый ответ, если он предполагается.\n",
    "\n",
    "На некоторые вопросы вы можете получить путём пристального взгляда на таблицу, но это не будет засчитываться. Вы в любом случае должны получить ответ с помощью кода."
   ]
  },
  {
   "cell_type": "markdown",
   "metadata": {
    "id": "gDD85M7bhLux"
   },
   "source": [
    "#### 1. [0 баллов] Откройте файл с таблицей (не забудьте про её формат). Выведите последние 10 строк.\n",
    "\n",
    "Посмотрите на данные и скажите, что они из себя представляют, сколько в таблице строк, какие столбцы? (на это не надо отвечать, просто подумайте об этом)"
   ]
  },
  {
   "cell_type": "code",
   "execution_count": null,
   "metadata": {
    "id": "PKulur3LhLuy"
   },
   "outputs": [
    {
     "data": {
      "text/html": [
       "<div>\n",
       "<style scoped>\n",
       "    .dataframe tbody tr th:only-of-type {\n",
       "        vertical-align: middle;\n",
       "    }\n",
       "\n",
       "    .dataframe tbody tr th {\n",
       "        vertical-align: top;\n",
       "    }\n",
       "\n",
       "    .dataframe thead th {\n",
       "        text-align: right;\n",
       "    }\n",
       "</style>\n",
       "<table border=\"1\" class=\"dataframe\">\n",
       "  <thead>\n",
       "    <tr style=\"text-align: right;\">\n",
       "      <th></th>\n",
       "      <th>timestamp</th>\n",
       "      <th>id</th>\n",
       "      <th>rating</th>\n",
       "      <th>18_group</th>\n",
       "      <th>is_mi</th>\n",
       "      <th>fall_1</th>\n",
       "      <th>fall_2</th>\n",
       "      <th>fall_3</th>\n",
       "      <th>spring_1</th>\n",
       "      <th>spring_2</th>\n",
       "      <th>spring_3</th>\n",
       "      <th>is_first_time</th>\n",
       "      <th>percentile</th>\n",
       "      <th>17_group</th>\n",
       "      <th>blended</th>\n",
       "      <th>is_ml_student</th>\n",
       "    </tr>\n",
       "  </thead>\n",
       "  <tbody>\n",
       "    <tr>\n",
       "      <th>0</th>\n",
       "      <td>2020-05-15 01:12:50.543</td>\n",
       "      <td>93ff79a51cd602f1dd3028ba2c129503</td>\n",
       "      <td>698</td>\n",
       "      <td>181.0</td>\n",
       "      <td>NaN</td>\n",
       "      <td>Язык SQL</td>\n",
       "      <td>Высокопроизводительные вычисления</td>\n",
       "      <td>Матричные вычисления</td>\n",
       "      <td>Дискретная оптимизация</td>\n",
       "      <td>Численные методы</td>\n",
       "      <td>Машинное обучение 2</td>\n",
       "      <td>Да</td>\n",
       "      <td>0.183857</td>\n",
       "      <td>NaN</td>\n",
       "      <td>NaN</td>\n",
       "      <td>NaN</td>\n",
       "    </tr>\n",
       "    <tr>\n",
       "      <th>1</th>\n",
       "      <td>2020-05-15 02:46:48.066</td>\n",
       "      <td>26b01b1c4cd5656bab18d24c548834fb</td>\n",
       "      <td>647</td>\n",
       "      <td>181.0</td>\n",
       "      <td>NaN</td>\n",
       "      <td>Высокопроизводительные вычисления</td>\n",
       "      <td>Безопасность компьютерных систем</td>\n",
       "      <td>Язык SQL</td>\n",
       "      <td>Дискретная оптимизация</td>\n",
       "      <td>Численные методы</td>\n",
       "      <td>Машинное обучение 2</td>\n",
       "      <td>Нет</td>\n",
       "      <td>0.426009</td>\n",
       "      <td>NaN</td>\n",
       "      <td>NaN</td>\n",
       "      <td>NaN</td>\n",
       "    </tr>\n",
       "    <tr>\n",
       "      <th>2</th>\n",
       "      <td>2020-05-15 03:12:41.480</td>\n",
       "      <td>30f3653fc176d54e89ac3179c455c6dd</td>\n",
       "      <td>624</td>\n",
       "      <td>185.0</td>\n",
       "      <td>NaN</td>\n",
       "      <td>Безопасность компьютерных систем</td>\n",
       "      <td>Матричные вычисления</td>\n",
       "      <td>Моделирование временных рядов</td>\n",
       "      <td>Дискретная оптимизация</td>\n",
       "      <td>Машинное обучение 2</td>\n",
       "      <td>Численные методы</td>\n",
       "      <td>Да</td>\n",
       "      <td>0.538117</td>\n",
       "      <td>NaN</td>\n",
       "      <td>NaN</td>\n",
       "      <td>NaN</td>\n",
       "    </tr>\n",
       "    <tr>\n",
       "      <th>3</th>\n",
       "      <td>2020-05-15 04:43:08.994</td>\n",
       "      <td>1528f0eaa027580820ccf0d92a53ad68</td>\n",
       "      <td>579</td>\n",
       "      <td>182.0</td>\n",
       "      <td>NaN</td>\n",
       "      <td>Statistical Learning Theory</td>\n",
       "      <td>Высокопроизводительные вычисления</td>\n",
       "      <td>Матричные вычисления</td>\n",
       "      <td>Дискретная оптимизация</td>\n",
       "      <td>Численные методы</td>\n",
       "      <td>Машинное обучение 2</td>\n",
       "      <td>Да</td>\n",
       "      <td>0.744395</td>\n",
       "      <td>NaN</td>\n",
       "      <td>NaN</td>\n",
       "      <td>NaN</td>\n",
       "    </tr>\n",
       "    <tr>\n",
       "      <th>4</th>\n",
       "      <td>2020-05-15 07:47:17.197</td>\n",
       "      <td>496ea4f0d4abe264b1bb1b80eb3830c5</td>\n",
       "      <td>572</td>\n",
       "      <td>183.0</td>\n",
       "      <td>NaN</td>\n",
       "      <td>Высокопроизводительные вычисления</td>\n",
       "      <td>Безопасность компьютерных систем</td>\n",
       "      <td>Теория баз данных</td>\n",
       "      <td>Компьютерные сети</td>\n",
       "      <td>Дискретная оптимизация</td>\n",
       "      <td>Численные методы</td>\n",
       "      <td>Да</td>\n",
       "      <td>0.780269</td>\n",
       "      <td>NaN</td>\n",
       "      <td>NaN</td>\n",
       "      <td>NaN</td>\n",
       "    </tr>\n",
       "    <tr>\n",
       "      <th>5</th>\n",
       "      <td>2020-05-15 09:10:18.558</td>\n",
       "      <td>d0d8ff53ed5b119f9056068e954256c6</td>\n",
       "      <td>591</td>\n",
       "      <td>187.0</td>\n",
       "      <td>NaN</td>\n",
       "      <td>Язык SQL</td>\n",
       "      <td>Statistical Learning Theory</td>\n",
       "      <td>Сбор и обработка данных с помощью краудсорсинга</td>\n",
       "      <td>Промышленное программирование на языке Java</td>\n",
       "      <td>Численные методы</td>\n",
       "      <td>Дискретная оптимизация</td>\n",
       "      <td>Да</td>\n",
       "      <td>0.690583</td>\n",
       "      <td>NaN</td>\n",
       "      <td>NaN</td>\n",
       "      <td>NaN</td>\n",
       "    </tr>\n",
       "    <tr>\n",
       "      <th>6</th>\n",
       "      <td>2020-05-15 11:42:16.910</td>\n",
       "      <td>e4caca755ee0bdd711e18fb8084958b5</td>\n",
       "      <td>724</td>\n",
       "      <td>181.0</td>\n",
       "      <td>NaN</td>\n",
       "      <td>Statistical Learning Theory</td>\n",
       "      <td>Безопасность компьютерных систем</td>\n",
       "      <td>Моделирование временных рядов</td>\n",
       "      <td>Численные методы</td>\n",
       "      <td>Промышленное программирование на языке Java</td>\n",
       "      <td>Машинное обучение 2</td>\n",
       "      <td>Да</td>\n",
       "      <td>0.103139</td>\n",
       "      <td>NaN</td>\n",
       "      <td>NaN</td>\n",
       "      <td>NaN</td>\n",
       "    </tr>\n",
       "    <tr>\n",
       "      <th>7</th>\n",
       "      <td>2020-05-15 12:11:43.252</td>\n",
       "      <td>8047c18b3c531c6f47931e0744f3e028</td>\n",
       "      <td>566</td>\n",
       "      <td>187.0</td>\n",
       "      <td>NaN</td>\n",
       "      <td>Язык SQL</td>\n",
       "      <td>Теория баз данных</td>\n",
       "      <td>Безопасность компьютерных систем</td>\n",
       "      <td>Промышленное программирование на языке Java</td>\n",
       "      <td>Компьютерные сети</td>\n",
       "      <td>Дискретная оптимизация</td>\n",
       "      <td>Да</td>\n",
       "      <td>0.802691</td>\n",
       "      <td>NaN</td>\n",
       "      <td>NaN</td>\n",
       "      <td>NaN</td>\n",
       "    </tr>\n",
       "    <tr>\n",
       "      <th>8</th>\n",
       "      <td>2020-05-15 13:21:40.913</td>\n",
       "      <td>e8b314842f176be9051d14a07cb156cb</td>\n",
       "      <td>618</td>\n",
       "      <td>181.0</td>\n",
       "      <td>NaN</td>\n",
       "      <td>Язык SQL</td>\n",
       "      <td>Теория баз данных</td>\n",
       "      <td>Матричные вычисления</td>\n",
       "      <td>Промышленное программирование на языке Java</td>\n",
       "      <td>Компьютерные сети</td>\n",
       "      <td>Дискретная оптимизация</td>\n",
       "      <td>Да</td>\n",
       "      <td>0.565022</td>\n",
       "      <td>NaN</td>\n",
       "      <td>NaN</td>\n",
       "      <td>NaN</td>\n",
       "    </tr>\n",
       "    <tr>\n",
       "      <th>9</th>\n",
       "      <td>2020-05-15 13:29:10.789</td>\n",
       "      <td>d6c079f1ff869c8c84fa3ed30bd67e0e</td>\n",
       "      <td>733</td>\n",
       "      <td>181.0</td>\n",
       "      <td>NaN</td>\n",
       "      <td>Теория баз данных</td>\n",
       "      <td>Высокопроизводительные вычисления</td>\n",
       "      <td>Сбор и обработка данных с помощью краудсорсинга</td>\n",
       "      <td>Дополнительные главы прикладной статистики</td>\n",
       "      <td>Анализ данных в бизнесе</td>\n",
       "      <td>Численные методы</td>\n",
       "      <td>Да</td>\n",
       "      <td>0.085202</td>\n",
       "      <td>NaN</td>\n",
       "      <td>NaN</td>\n",
       "      <td>1.0</td>\n",
       "    </tr>\n",
       "  </tbody>\n",
       "</table>\n",
       "</div>"
      ],
      "text/plain": [
       "                timestamp                                id  rating  18_group  \\\n",
       "0 2020-05-15 01:12:50.543  93ff79a51cd602f1dd3028ba2c129503     698     181.0   \n",
       "1 2020-05-15 02:46:48.066  26b01b1c4cd5656bab18d24c548834fb     647     181.0   \n",
       "2 2020-05-15 03:12:41.480  30f3653fc176d54e89ac3179c455c6dd     624     185.0   \n",
       "3 2020-05-15 04:43:08.994  1528f0eaa027580820ccf0d92a53ad68     579     182.0   \n",
       "4 2020-05-15 07:47:17.197  496ea4f0d4abe264b1bb1b80eb3830c5     572     183.0   \n",
       "5 2020-05-15 09:10:18.558  d0d8ff53ed5b119f9056068e954256c6     591     187.0   \n",
       "6 2020-05-15 11:42:16.910  e4caca755ee0bdd711e18fb8084958b5     724     181.0   \n",
       "7 2020-05-15 12:11:43.252  8047c18b3c531c6f47931e0744f3e028     566     187.0   \n",
       "8 2020-05-15 13:21:40.913  e8b314842f176be9051d14a07cb156cb     618     181.0   \n",
       "9 2020-05-15 13:29:10.789  d6c079f1ff869c8c84fa3ed30bd67e0e     733     181.0   \n",
       "\n",
       "   is_mi                             fall_1  \\\n",
       "0    NaN                           Язык SQL   \n",
       "1    NaN  Высокопроизводительные вычисления   \n",
       "2    NaN   Безопасность компьютерных систем   \n",
       "3    NaN        Statistical Learning Theory   \n",
       "4    NaN  Высокопроизводительные вычисления   \n",
       "5    NaN                           Язык SQL   \n",
       "6    NaN        Statistical Learning Theory   \n",
       "7    NaN                           Язык SQL   \n",
       "8    NaN                           Язык SQL   \n",
       "9    NaN                  Теория баз данных   \n",
       "\n",
       "                              fall_2  \\\n",
       "0  Высокопроизводительные вычисления   \n",
       "1   Безопасность компьютерных систем   \n",
       "2               Матричные вычисления   \n",
       "3  Высокопроизводительные вычисления   \n",
       "4   Безопасность компьютерных систем   \n",
       "5        Statistical Learning Theory   \n",
       "6   Безопасность компьютерных систем   \n",
       "7                  Теория баз данных   \n",
       "8                  Теория баз данных   \n",
       "9  Высокопроизводительные вычисления   \n",
       "\n",
       "                                            fall_3  \\\n",
       "0                             Матричные вычисления   \n",
       "1                                         Язык SQL   \n",
       "2                    Моделирование временных рядов   \n",
       "3                             Матричные вычисления   \n",
       "4                                Теория баз данных   \n",
       "5  Сбор и обработка данных с помощью краудсорсинга   \n",
       "6                    Моделирование временных рядов   \n",
       "7                 Безопасность компьютерных систем   \n",
       "8                             Матричные вычисления   \n",
       "9  Сбор и обработка данных с помощью краудсорсинга   \n",
       "\n",
       "                                      spring_1  \\\n",
       "0                       Дискретная оптимизация   \n",
       "1                       Дискретная оптимизация   \n",
       "2                       Дискретная оптимизация   \n",
       "3                       Дискретная оптимизация   \n",
       "4                            Компьютерные сети   \n",
       "5  Промышленное программирование на языке Java   \n",
       "6                             Численные методы   \n",
       "7  Промышленное программирование на языке Java   \n",
       "8  Промышленное программирование на языке Java   \n",
       "9   Дополнительные главы прикладной статистики   \n",
       "\n",
       "                                      spring_2                spring_3  \\\n",
       "0                             Численные методы     Машинное обучение 2   \n",
       "1                             Численные методы     Машинное обучение 2   \n",
       "2                          Машинное обучение 2        Численные методы   \n",
       "3                             Численные методы     Машинное обучение 2   \n",
       "4                       Дискретная оптимизация        Численные методы   \n",
       "5                             Численные методы  Дискретная оптимизация   \n",
       "6  Промышленное программирование на языке Java     Машинное обучение 2   \n",
       "7                            Компьютерные сети  Дискретная оптимизация   \n",
       "8                            Компьютерные сети  Дискретная оптимизация   \n",
       "9                      Анализ данных в бизнесе        Численные методы   \n",
       "\n",
       "  is_first_time  percentile  17_group blended  is_ml_student  \n",
       "0            Да    0.183857       NaN     NaN            NaN  \n",
       "1           Нет    0.426009       NaN     NaN            NaN  \n",
       "2            Да    0.538117       NaN     NaN            NaN  \n",
       "3            Да    0.744395       NaN     NaN            NaN  \n",
       "4            Да    0.780269       NaN     NaN            NaN  \n",
       "5            Да    0.690583       NaN     NaN            NaN  \n",
       "6            Да    0.103139       NaN     NaN            NaN  \n",
       "7            Да    0.802691       NaN     NaN            NaN  \n",
       "8            Да    0.565022       NaN     NaN            NaN  \n",
       "9            Да    0.085202       NaN     NaN            1.0  "
      ]
     },
     "execution_count": 7,
     "metadata": {},
     "output_type": "execute_result"
    }
   ],
   "source": [
    "data = pd.read_excel('end_seminar.xlsx')\n",
    "data.head(10)"
   ]
  },
  {
   "cell_type": "markdown",
   "metadata": {
    "id": "jPiMwyqHhLuy"
   },
   "source": [
    "#### 2. [0.5 балла] Есть ли в данных пропуски? В каких колонках? Сколько их в каждой из этих колонок?"
   ]
  },
  {
   "cell_type": "code",
   "execution_count": null,
   "metadata": {
    "id": "edY1RrSOhLuy"
   },
   "outputs": [
    {
     "data": {
      "text/plain": [
       "timestamp          0\n",
       "id                 0\n",
       "rating             0\n",
       "18_group         138\n",
       "is_mi            343\n",
       "fall_1             0\n",
       "fall_2             0\n",
       "fall_3             0\n",
       "spring_1           0\n",
       "spring_2           0\n",
       "spring_3           0\n",
       "is_first_time      2\n",
       "percentile         0\n",
       "17_group         223\n",
       "blended          223\n",
       "is_ml_student    304\n",
       "dtype: int64"
      ]
     },
     "execution_count": 8,
     "metadata": {},
     "output_type": "execute_result"
    }
   ],
   "source": [
    "data.isnull().sum()"
   ]
  },
  {
   "cell_type": "code",
   "execution_count": null,
   "metadata": {},
   "outputs": [
    {
     "data": {
      "text/plain": [
       "timestamp        datetime64[ns]\n",
       "id                       object\n",
       "rating                    int64\n",
       "18_group                float64\n",
       "is_mi                   float64\n",
       "fall_1                   object\n",
       "fall_2                   object\n",
       "fall_3                   object\n",
       "spring_1                 object\n",
       "spring_2                 object\n",
       "spring_3                 object\n",
       "is_first_time            object\n",
       "percentile              float64\n",
       "17_group                float64\n",
       "blended                  object\n",
       "is_ml_student           float64\n",
       "dtype: object"
      ]
     },
     "execution_count": 9,
     "metadata": {},
     "output_type": "execute_result"
    }
   ],
   "source": [
    "data.dtypes"
   ]
  },
  {
   "cell_type": "markdown",
   "metadata": {
    "id": "B5ORhP2uhLuz"
   },
   "source": [
    "Заполните пропуски пустой строкой для строковых колонок и нулём для числовых (постарайтесь избежать перечисления названий всех столбцов)."
   ]
  },
  {
   "cell_type": "code",
   "execution_count": null,
   "metadata": {
    "id": "TlF_JJ2ghLuz"
   },
   "outputs": [
    {
     "data": {
      "text/html": [
       "<div>\n",
       "<style scoped>\n",
       "    .dataframe tbody tr th:only-of-type {\n",
       "        vertical-align: middle;\n",
       "    }\n",
       "\n",
       "    .dataframe tbody tr th {\n",
       "        vertical-align: top;\n",
       "    }\n",
       "\n",
       "    .dataframe thead th {\n",
       "        text-align: right;\n",
       "    }\n",
       "</style>\n",
       "<table border=\"1\" class=\"dataframe\">\n",
       "  <thead>\n",
       "    <tr style=\"text-align: right;\">\n",
       "      <th></th>\n",
       "      <th>timestamp</th>\n",
       "      <th>id</th>\n",
       "      <th>rating</th>\n",
       "      <th>18_group</th>\n",
       "      <th>is_mi</th>\n",
       "      <th>fall_1</th>\n",
       "      <th>fall_2</th>\n",
       "      <th>fall_3</th>\n",
       "      <th>spring_1</th>\n",
       "      <th>spring_2</th>\n",
       "      <th>spring_3</th>\n",
       "      <th>is_first_time</th>\n",
       "      <th>percentile</th>\n",
       "      <th>17_group</th>\n",
       "      <th>blended</th>\n",
       "      <th>is_ml_student</th>\n",
       "    </tr>\n",
       "  </thead>\n",
       "  <tbody>\n",
       "    <tr>\n",
       "      <th>0</th>\n",
       "      <td>2020-05-15 01:12:50.543</td>\n",
       "      <td>93ff79a51cd602f1dd3028ba2c129503</td>\n",
       "      <td>698</td>\n",
       "      <td>181.0</td>\n",
       "      <td>0.0</td>\n",
       "      <td>Язык SQL</td>\n",
       "      <td>Высокопроизводительные вычисления</td>\n",
       "      <td>Матричные вычисления</td>\n",
       "      <td>Дискретная оптимизация</td>\n",
       "      <td>Численные методы</td>\n",
       "      <td>Машинное обучение 2</td>\n",
       "      <td>Да</td>\n",
       "      <td>0.183857</td>\n",
       "      <td>0.0</td>\n",
       "      <td></td>\n",
       "      <td>0.0</td>\n",
       "    </tr>\n",
       "    <tr>\n",
       "      <th>1</th>\n",
       "      <td>2020-05-15 02:46:48.066</td>\n",
       "      <td>26b01b1c4cd5656bab18d24c548834fb</td>\n",
       "      <td>647</td>\n",
       "      <td>181.0</td>\n",
       "      <td>0.0</td>\n",
       "      <td>Высокопроизводительные вычисления</td>\n",
       "      <td>Безопасность компьютерных систем</td>\n",
       "      <td>Язык SQL</td>\n",
       "      <td>Дискретная оптимизация</td>\n",
       "      <td>Численные методы</td>\n",
       "      <td>Машинное обучение 2</td>\n",
       "      <td>Нет</td>\n",
       "      <td>0.426009</td>\n",
       "      <td>0.0</td>\n",
       "      <td></td>\n",
       "      <td>0.0</td>\n",
       "    </tr>\n",
       "    <tr>\n",
       "      <th>2</th>\n",
       "      <td>2020-05-15 03:12:41.480</td>\n",
       "      <td>30f3653fc176d54e89ac3179c455c6dd</td>\n",
       "      <td>624</td>\n",
       "      <td>185.0</td>\n",
       "      <td>0.0</td>\n",
       "      <td>Безопасность компьютерных систем</td>\n",
       "      <td>Матричные вычисления</td>\n",
       "      <td>Моделирование временных рядов</td>\n",
       "      <td>Дискретная оптимизация</td>\n",
       "      <td>Машинное обучение 2</td>\n",
       "      <td>Численные методы</td>\n",
       "      <td>Да</td>\n",
       "      <td>0.538117</td>\n",
       "      <td>0.0</td>\n",
       "      <td></td>\n",
       "      <td>0.0</td>\n",
       "    </tr>\n",
       "    <tr>\n",
       "      <th>3</th>\n",
       "      <td>2020-05-15 04:43:08.994</td>\n",
       "      <td>1528f0eaa027580820ccf0d92a53ad68</td>\n",
       "      <td>579</td>\n",
       "      <td>182.0</td>\n",
       "      <td>0.0</td>\n",
       "      <td>Statistical Learning Theory</td>\n",
       "      <td>Высокопроизводительные вычисления</td>\n",
       "      <td>Матричные вычисления</td>\n",
       "      <td>Дискретная оптимизация</td>\n",
       "      <td>Численные методы</td>\n",
       "      <td>Машинное обучение 2</td>\n",
       "      <td>Да</td>\n",
       "      <td>0.744395</td>\n",
       "      <td>0.0</td>\n",
       "      <td></td>\n",
       "      <td>0.0</td>\n",
       "    </tr>\n",
       "    <tr>\n",
       "      <th>4</th>\n",
       "      <td>2020-05-15 07:47:17.197</td>\n",
       "      <td>496ea4f0d4abe264b1bb1b80eb3830c5</td>\n",
       "      <td>572</td>\n",
       "      <td>183.0</td>\n",
       "      <td>0.0</td>\n",
       "      <td>Высокопроизводительные вычисления</td>\n",
       "      <td>Безопасность компьютерных систем</td>\n",
       "      <td>Теория баз данных</td>\n",
       "      <td>Компьютерные сети</td>\n",
       "      <td>Дискретная оптимизация</td>\n",
       "      <td>Численные методы</td>\n",
       "      <td>Да</td>\n",
       "      <td>0.780269</td>\n",
       "      <td>0.0</td>\n",
       "      <td></td>\n",
       "      <td>0.0</td>\n",
       "    </tr>\n",
       "  </tbody>\n",
       "</table>\n",
       "</div>"
      ],
      "text/plain": [
       "                timestamp                                id  rating  18_group  \\\n",
       "0 2020-05-15 01:12:50.543  93ff79a51cd602f1dd3028ba2c129503     698     181.0   \n",
       "1 2020-05-15 02:46:48.066  26b01b1c4cd5656bab18d24c548834fb     647     181.0   \n",
       "2 2020-05-15 03:12:41.480  30f3653fc176d54e89ac3179c455c6dd     624     185.0   \n",
       "3 2020-05-15 04:43:08.994  1528f0eaa027580820ccf0d92a53ad68     579     182.0   \n",
       "4 2020-05-15 07:47:17.197  496ea4f0d4abe264b1bb1b80eb3830c5     572     183.0   \n",
       "\n",
       "   is_mi                             fall_1  \\\n",
       "0    0.0                           Язык SQL   \n",
       "1    0.0  Высокопроизводительные вычисления   \n",
       "2    0.0   Безопасность компьютерных систем   \n",
       "3    0.0        Statistical Learning Theory   \n",
       "4    0.0  Высокопроизводительные вычисления   \n",
       "\n",
       "                              fall_2                         fall_3  \\\n",
       "0  Высокопроизводительные вычисления           Матричные вычисления   \n",
       "1   Безопасность компьютерных систем                       Язык SQL   \n",
       "2               Матричные вычисления  Моделирование временных рядов   \n",
       "3  Высокопроизводительные вычисления           Матричные вычисления   \n",
       "4   Безопасность компьютерных систем              Теория баз данных   \n",
       "\n",
       "                 spring_1                spring_2             spring_3  \\\n",
       "0  Дискретная оптимизация        Численные методы  Машинное обучение 2   \n",
       "1  Дискретная оптимизация        Численные методы  Машинное обучение 2   \n",
       "2  Дискретная оптимизация     Машинное обучение 2     Численные методы   \n",
       "3  Дискретная оптимизация        Численные методы  Машинное обучение 2   \n",
       "4       Компьютерные сети  Дискретная оптимизация     Численные методы   \n",
       "\n",
       "  is_first_time  percentile  17_group blended  is_ml_student  \n",
       "0            Да    0.183857       0.0                    0.0  \n",
       "1           Нет    0.426009       0.0                    0.0  \n",
       "2            Да    0.538117       0.0                    0.0  \n",
       "3            Да    0.744395       0.0                    0.0  \n",
       "4            Да    0.780269       0.0                    0.0  "
      ]
     },
     "execution_count": 10,
     "metadata": {},
     "output_type": "execute_result"
    }
   ],
   "source": [
    "str_col = data.select_dtypes(include=['object']).columns\n",
    "int_col = data.select_dtypes(include=['float64']).columns\n",
    "data[str_col] = data[str_col].fillna(value='')\n",
    "data[int_col] = data[int_col].fillna(value=0)\n",
    "data.head()"
   ]
  },
  {
   "cell_type": "markdown",
   "metadata": {
    "id": "w5ELhkT1hLuz"
   },
   "source": [
    "#### 3. [0.5 балла] Посмотрите повнимательнее на колонку 'is_first_time'. \n",
    "\n",
    "Есть ли в ней ответы \"Нет\"? Сколько их?\n",
    "\n",
    "Если вы найдете повторные обращения студентов, оставьте только самую позднюю версию. В дальнейших заданиях используйте версию данных без повторов.\n",
    "\n",
    "<i>Обращения со значением \"Нет\" в 'is_first_time' могут быть как повторными, так и первичными, поскольку поле заполняли сами студенты.</i>"
   ]
  },
  {
   "cell_type": "code",
   "execution_count": 11,
   "metadata": {},
   "outputs": [
    {
     "data": {
      "text/plain": [
       "count       361\n",
       "unique        2\n",
       "top       False\n",
       "freq        347\n",
       "dtype: object"
      ]
     },
     "execution_count": 11,
     "metadata": {},
     "output_type": "execute_result"
    }
   ],
   "source": [
    "data.duplicated(subset='id')"
   ]
  },
  {
   "cell_type": "code",
   "execution_count": 12,
   "metadata": {
    "id": "VEfiNsyQhLuz"
   },
   "outputs": [
    {
     "data": {
      "text/html": [
       "<div>\n",
       "<style scoped>\n",
       "    .dataframe tbody tr th:only-of-type {\n",
       "        vertical-align: middle;\n",
       "    }\n",
       "\n",
       "    .dataframe tbody tr th {\n",
       "        vertical-align: top;\n",
       "    }\n",
       "\n",
       "    .dataframe thead th {\n",
       "        text-align: right;\n",
       "    }\n",
       "</style>\n",
       "<table border=\"1\" class=\"dataframe\">\n",
       "  <thead>\n",
       "    <tr style=\"text-align: right;\">\n",
       "      <th></th>\n",
       "      <th>timestamp</th>\n",
       "      <th>id</th>\n",
       "      <th>rating</th>\n",
       "      <th>18_group</th>\n",
       "      <th>is_mi</th>\n",
       "      <th>fall_1</th>\n",
       "      <th>fall_2</th>\n",
       "      <th>fall_3</th>\n",
       "      <th>spring_1</th>\n",
       "      <th>spring_2</th>\n",
       "      <th>spring_3</th>\n",
       "      <th>is_first_time</th>\n",
       "      <th>percentile</th>\n",
       "      <th>17_group</th>\n",
       "      <th>blended</th>\n",
       "      <th>is_ml_student</th>\n",
       "    </tr>\n",
       "  </thead>\n",
       "  <tbody>\n",
       "    <tr>\n",
       "      <th>223</th>\n",
       "      <td>2020-05-14 20:23:21.662</td>\n",
       "      <td>d555d2805e1d93d4f023e57dc4c8f403</td>\n",
       "      <td>996</td>\n",
       "      <td>0.0</td>\n",
       "      <td>0.0</td>\n",
       "      <td>Безопасность компьютерных систем</td>\n",
       "      <td>Глубинное обучение в обработке звука</td>\n",
       "      <td>Байесовские методы машинного обучения</td>\n",
       "      <td>Компьютерное зрение</td>\n",
       "      <td>Обучение с подкреплением</td>\n",
       "      <td>Проектирование и разработка высоконагруженных ...</td>\n",
       "      <td>Да</td>\n",
       "      <td>0.963768</td>\n",
       "      <td>172.0</td>\n",
       "      <td>DevOps</td>\n",
       "      <td>0.0</td>\n",
       "    </tr>\n",
       "    <tr>\n",
       "      <th>224</th>\n",
       "      <td>2020-05-14 20:47:13.833</td>\n",
       "      <td>253bbe1a2021d0404712a1e4acd22939</td>\n",
       "      <td>1106</td>\n",
       "      <td>0.0</td>\n",
       "      <td>0.0</td>\n",
       "      <td>Безопасность компьютерных систем</td>\n",
       "      <td>Моделирование временных рядов</td>\n",
       "      <td>Statistical Learning Theory</td>\n",
       "      <td>Проектирование и разработка высоконагруженных ...</td>\n",
       "      <td>Численные методы</td>\n",
       "      <td>Методы сжатия и передачи медиаданных</td>\n",
       "      <td>Да</td>\n",
       "      <td>0.673913</td>\n",
       "      <td>176.0</td>\n",
       "      <td>DevOps</td>\n",
       "      <td>0.0</td>\n",
       "    </tr>\n",
       "    <tr>\n",
       "      <th>225</th>\n",
       "      <td>2020-05-14 20:52:42.734</td>\n",
       "      <td>881b1a6fda195b354ae2edb396a69f5d</td>\n",
       "      <td>1084</td>\n",
       "      <td>0.0</td>\n",
       "      <td>0.0</td>\n",
       "      <td>Безопасность компьютерных систем</td>\n",
       "      <td>Анализ неструктурированных данных</td>\n",
       "      <td>Глубинное обучение в обработке звука</td>\n",
       "      <td>Компьютерное зрение</td>\n",
       "      <td>Проектирование и разработка высоконагруженных ...</td>\n",
       "      <td>Генеративные модели в машинном обучении</td>\n",
       "      <td>Да</td>\n",
       "      <td>0.782609</td>\n",
       "      <td>172.0</td>\n",
       "      <td>DevOps</td>\n",
       "      <td>0.0</td>\n",
       "    </tr>\n",
       "    <tr>\n",
       "      <th>226</th>\n",
       "      <td>2020-05-14 21:03:02.916</td>\n",
       "      <td>5a9b8ac11ad05b39a58b0e04a263bf4c</td>\n",
       "      <td>1170</td>\n",
       "      <td>0.0</td>\n",
       "      <td>0.0</td>\n",
       "      <td>Глубинное обучение в обработке звука</td>\n",
       "      <td>Statistical Learning Theory</td>\n",
       "      <td>Сбор и обработка данных с помощью краудсорсинга</td>\n",
       "      <td>Конфликты и кооперация</td>\n",
       "      <td>Обучение с подкреплением</td>\n",
       "      <td>Генеративные модели в машинном обучении</td>\n",
       "      <td>Да</td>\n",
       "      <td>0.442029</td>\n",
       "      <td>171.0</td>\n",
       "      <td>DevOps</td>\n",
       "      <td>0.0</td>\n",
       "    </tr>\n",
       "    <tr>\n",
       "      <th>227</th>\n",
       "      <td>2020-05-14 21:10:54.945</td>\n",
       "      <td>1bbbfae51794b83c769b634be8da7b8d</td>\n",
       "      <td>1078</td>\n",
       "      <td>0.0</td>\n",
       "      <td>0.0</td>\n",
       "      <td>Безопасность компьютерных систем</td>\n",
       "      <td>Высокопроизводительные вычисления</td>\n",
       "      <td>Анализ неструктурированных данных</td>\n",
       "      <td>Проектирование и разработка высоконагруженных ...</td>\n",
       "      <td>Методы сжатия и передачи медиаданных</td>\n",
       "      <td>Конфликты и кооперация</td>\n",
       "      <td>Да</td>\n",
       "      <td>0.789855</td>\n",
       "      <td>176.0</td>\n",
       "      <td>DevOps</td>\n",
       "      <td>0.0</td>\n",
       "    </tr>\n",
       "  </tbody>\n",
       "</table>\n",
       "</div>"
      ],
      "text/plain": [
       "                  timestamp                                id  rating  \\\n",
       "223 2020-05-14 20:23:21.662  d555d2805e1d93d4f023e57dc4c8f403     996   \n",
       "224 2020-05-14 20:47:13.833  253bbe1a2021d0404712a1e4acd22939    1106   \n",
       "225 2020-05-14 20:52:42.734  881b1a6fda195b354ae2edb396a69f5d    1084   \n",
       "226 2020-05-14 21:03:02.916  5a9b8ac11ad05b39a58b0e04a263bf4c    1170   \n",
       "227 2020-05-14 21:10:54.945  1bbbfae51794b83c769b634be8da7b8d    1078   \n",
       "\n",
       "     18_group  is_mi                                fall_1  \\\n",
       "223       0.0    0.0      Безопасность компьютерных систем   \n",
       "224       0.0    0.0      Безопасность компьютерных систем   \n",
       "225       0.0    0.0      Безопасность компьютерных систем   \n",
       "226       0.0    0.0  Глубинное обучение в обработке звука   \n",
       "227       0.0    0.0      Безопасность компьютерных систем   \n",
       "\n",
       "                                   fall_2  \\\n",
       "223  Глубинное обучение в обработке звука   \n",
       "224         Моделирование временных рядов   \n",
       "225     Анализ неструктурированных данных   \n",
       "226           Statistical Learning Theory   \n",
       "227     Высокопроизводительные вычисления   \n",
       "\n",
       "                                              fall_3  \\\n",
       "223            Байесовские методы машинного обучения   \n",
       "224                      Statistical Learning Theory   \n",
       "225             Глубинное обучение в обработке звука   \n",
       "226  Сбор и обработка данных с помощью краудсорсинга   \n",
       "227                Анализ неструктурированных данных   \n",
       "\n",
       "                                              spring_1  \\\n",
       "223                                Компьютерное зрение   \n",
       "224  Проектирование и разработка высоконагруженных ...   \n",
       "225                                Компьютерное зрение   \n",
       "226                             Конфликты и кооперация   \n",
       "227  Проектирование и разработка высоконагруженных ...   \n",
       "\n",
       "                                              spring_2  \\\n",
       "223                           Обучение с подкреплением   \n",
       "224                                   Численные методы   \n",
       "225  Проектирование и разработка высоконагруженных ...   \n",
       "226                           Обучение с подкреплением   \n",
       "227               Методы сжатия и передачи медиаданных   \n",
       "\n",
       "                                              spring_3 is_first_time  \\\n",
       "223  Проектирование и разработка высоконагруженных ...            Да   \n",
       "224               Методы сжатия и передачи медиаданных            Да   \n",
       "225            Генеративные модели в машинном обучении            Да   \n",
       "226            Генеративные модели в машинном обучении            Да   \n",
       "227                             Конфликты и кооперация            Да   \n",
       "\n",
       "     percentile  17_group blended  is_ml_student  \n",
       "223    0.963768     172.0  DevOps            0.0  \n",
       "224    0.673913     176.0  DevOps            0.0  \n",
       "225    0.782609     172.0  DevOps            0.0  \n",
       "226    0.442029     171.0  DevOps            0.0  \n",
       "227    0.789855     176.0  DevOps            0.0  "
      ]
     },
     "execution_count": 12,
     "metadata": {},
     "output_type": "execute_result"
    }
   ],
   "source": [
    "data = data.sort_values(by='timestamp').drop_duplicates(subset='id', keep='last')\n",
    "data.head()"
   ]
  },
  {
   "cell_type": "markdown",
   "metadata": {
    "id": "Jhk3tVpVhLuy"
   },
   "source": [
    "#### 4. [0.5 балла] Ответьте на вопросы:\n",
    "1. Сколько было заявок из групп 18-го года набора, а сколько из групп 17-го года?\n",
    "2. Есть ли студенты с равными перцентилями (среди объединенных данных, ведь конкурс на каждый курс общий)?"
   ]
  },
  {
   "cell_type": "code",
   "execution_count": 13,
   "metadata": {
    "id": "bsn4vn8RhLuy"
   },
   "outputs": [
    {
     "name": "stdout",
     "output_type": "stream",
     "text": [
      "заявок из групп 18 года: 213\n",
      "заявок из групп 17 года: 134\n"
     ]
    }
   ],
   "source": [
    "print('заявок из групп 18 года:', data[data['18_group'] != 0].shape[0])\n",
    "print('заявок из групп 17 года:', data[data['17_group'] != 0].shape[0])"
   ]
  },
  {
   "cell_type": "code",
   "execution_count": 14,
   "metadata": {},
   "outputs": [
    {
     "data": {
      "text/plain": [
       "count       347\n",
       "unique        2\n",
       "top       False\n",
       "freq        346\n",
       "dtype: object"
      ]
     },
     "execution_count": 14,
     "metadata": {},
     "output_type": "execute_result"
    }
   ],
   "source": [
    "data.duplicated(subset='percentile').describe()\n",
    "# поскольку unique != 1, есть повторы"
   ]
  },
  {
   "cell_type": "markdown",
   "metadata": {
    "id": "IlzHp3HVhLuz"
   },
   "source": [
    "#### 5. [0.5 балла] Какие  blended-курсы для четверокурсников существуют? На какой blended-курс записалось наибольшее количество студентов? На каком из blended-курсов собрались студенты с самым высоким средним рейтингом (выведите этот курс и количество студентов на нем)? "
   ]
  },
  {
   "cell_type": "code",
   "execution_count": 15,
   "metadata": {
    "id": "j_BRWerHhLu0"
   },
   "outputs": [
    {
     "data": {
      "text/html": [
       "<div>\n",
       "<style scoped>\n",
       "    .dataframe tbody tr th:only-of-type {\n",
       "        vertical-align: middle;\n",
       "    }\n",
       "\n",
       "    .dataframe tbody tr th {\n",
       "        vertical-align: top;\n",
       "    }\n",
       "\n",
       "    .dataframe thead th {\n",
       "        text-align: right;\n",
       "    }\n",
       "</style>\n",
       "<table border=\"1\" class=\"dataframe\">\n",
       "  <thead>\n",
       "    <tr style=\"text-align: right;\">\n",
       "      <th></th>\n",
       "      <th>rating</th>\n",
       "      <th>id</th>\n",
       "    </tr>\n",
       "    <tr>\n",
       "      <th>blended</th>\n",
       "      <th></th>\n",
       "      <th></th>\n",
       "    </tr>\n",
       "  </thead>\n",
       "  <tbody>\n",
       "    <tr>\n",
       "      <th></th>\n",
       "      <td>633.901408</td>\n",
       "      <td>213</td>\n",
       "    </tr>\n",
       "    <tr>\n",
       "      <th>DevOps</th>\n",
       "      <td>1154.172414</td>\n",
       "      <td>87</td>\n",
       "    </tr>\n",
       "    <tr>\n",
       "      <th>Введение в дифференциальную геометрию</th>\n",
       "      <td>1210.733333</td>\n",
       "      <td>15</td>\n",
       "    </tr>\n",
       "    <tr>\n",
       "      <th>Соревновательный анализ данных</th>\n",
       "      <td>1144.218750</td>\n",
       "      <td>32</td>\n",
       "    </tr>\n",
       "  </tbody>\n",
       "</table>\n",
       "</div>"
      ],
      "text/plain": [
       "                                            rating   id\n",
       "blended                                                \n",
       "                                        633.901408  213\n",
       "DevOps                                 1154.172414   87\n",
       "Введение в дифференциальную геометрию  1210.733333   15\n",
       "Соревновательный анализ данных         1144.218750   32"
      ]
     },
     "execution_count": 15,
     "metadata": {},
     "output_type": "execute_result"
    }
   ],
   "source": [
    "data.groupby('blended').agg({'rating': 'mean', 'id': 'count'})"
   ]
  },
  {
   "cell_type": "markdown",
   "metadata": {
    "id": "IU_FLt8HhLu0"
   },
   "source": [
    "#### 6. [1 балл] Выясните, есть ли студенты с абсолютно одинаковыми предпочтениями по всем курсам.\n",
    "\n",
    "Для этого сформируйте таблицу, где для каждого возможного набора курсов посчитано количество студентов, выбравших такой набор, и оставьте только строки где это количество больше 1.\n",
    "\n",
    "В данном случае набор курсов задается упорядоченным множеством ('fall_1', 'fall_2', 'fall_3', 'spring_1', 'spring_2', 'spring_3', 'blended'). Элемент blended будет нулевым для 3-го курса."
   ]
  },
  {
   "cell_type": "code",
   "execution_count": 16,
   "metadata": {
    "id": "BBDlR1mFhLu0"
   },
   "outputs": [
    {
     "data": {
      "text/html": [
       "<div>\n",
       "<style scoped>\n",
       "    .dataframe tbody tr th:only-of-type {\n",
       "        vertical-align: middle;\n",
       "    }\n",
       "\n",
       "    .dataframe tbody tr th {\n",
       "        vertical-align: top;\n",
       "    }\n",
       "\n",
       "    .dataframe thead th {\n",
       "        text-align: right;\n",
       "    }\n",
       "</style>\n",
       "<table border=\"1\" class=\"dataframe\">\n",
       "  <thead>\n",
       "    <tr style=\"text-align: right;\">\n",
       "      <th></th>\n",
       "      <th></th>\n",
       "      <th></th>\n",
       "      <th></th>\n",
       "      <th></th>\n",
       "      <th></th>\n",
       "      <th></th>\n",
       "      <th>id</th>\n",
       "    </tr>\n",
       "    <tr>\n",
       "      <th>fall_1</th>\n",
       "      <th>fall_2</th>\n",
       "      <th>fall_3</th>\n",
       "      <th>spring_1</th>\n",
       "      <th>spring_2</th>\n",
       "      <th>spring_3</th>\n",
       "      <th>blended</th>\n",
       "      <th></th>\n",
       "    </tr>\n",
       "  </thead>\n",
       "  <tbody>\n",
       "    <tr>\n",
       "      <th rowspan=\"5\" valign=\"top\">Statistical Learning Theory</th>\n",
       "      <th rowspan=\"2\" valign=\"top\">Анализ неструктурированных данных</th>\n",
       "      <th rowspan=\"2\" valign=\"top\">Сбор и обработка данных с помощью краудсорсинга</th>\n",
       "      <th rowspan=\"2\" valign=\"top\">Обучение с подкреплением</th>\n",
       "      <th rowspan=\"2\" valign=\"top\">Конфликты и кооперация</th>\n",
       "      <th rowspan=\"2\" valign=\"top\">Компьютерное зрение</th>\n",
       "      <th>DevOps</th>\n",
       "      <td>2</td>\n",
       "    </tr>\n",
       "    <tr>\n",
       "      <th>Соревновательный анализ данных</th>\n",
       "      <td>1</td>\n",
       "    </tr>\n",
       "    <tr>\n",
       "      <th rowspan=\"3\" valign=\"top\">Байесовские методы машинного обучения</th>\n",
       "      <th>Безопасность компьютерных систем</th>\n",
       "      <th>Проектирование и разработка высоконагруженных сервисов</th>\n",
       "      <th>Компьютерное зрение</th>\n",
       "      <th>Символьные вычисления</th>\n",
       "      <th>Введение в дифференциальную геометрию</th>\n",
       "      <td>1</td>\n",
       "    </tr>\n",
       "    <tr>\n",
       "      <th>Высокопроизводительные вычисления</th>\n",
       "      <th>Символьные вычисления</th>\n",
       "      <th>Компьютерное зрение</th>\n",
       "      <th>Проектирование и разработка высоконагруженных сервисов</th>\n",
       "      <th>Введение в дифференциальную геометрию</th>\n",
       "      <td>1</td>\n",
       "    </tr>\n",
       "    <tr>\n",
       "      <th>Моделирование временных рядов</th>\n",
       "      <th>Символьные вычисления</th>\n",
       "      <th>Компьютерное зрение</th>\n",
       "      <th>Конфликты и кооперация</th>\n",
       "      <th>Введение в дифференциальную геометрию</th>\n",
       "      <td>1</td>\n",
       "    </tr>\n",
       "  </tbody>\n",
       "</table>\n",
       "</div>"
      ],
      "text/plain": [
       "                                                                                                                                                                                                                                                                                      id\n",
       "fall_1                      fall_2                                fall_3                                          spring_1                                           spring_2               spring_3                                           blended                                  \n",
       "Statistical Learning Theory Анализ неструктурированных данных     Сбор и обработка данных с помощью краудсорсинга Обучение с подкреплением                           Конфликты и кооперация Компьютерное зрение                                DevOps                                  2\n",
       "                                                                                                                                                                                                                                               Соревновательный анализ данных          1\n",
       "                            Байесовские методы машинного обучения Безопасность компьютерных систем                Проектирование и разработка высоконагруженных с... Компьютерное зрение    Символьные вычисления                              Введение в дифференциальную геометрию   1\n",
       "                                                                  Высокопроизводительные вычисления               Символьные вычисления                              Компьютерное зрение    Проектирование и разработка высоконагруженных с... Введение в дифференциальную геометрию   1\n",
       "                                                                  Моделирование временных рядов                   Символьные вычисления                              Компьютерное зрение    Конфликты и кооперация                             Введение в дифференциальную геометрию   1"
      ]
     },
     "execution_count": 16,
     "metadata": {},
     "output_type": "execute_result"
    }
   ],
   "source": [
    "dt1 = data.groupby(['fall_1', 'fall_2', 'fall_3', 'spring_1', 'spring_2', 'spring_3', 'blended']).agg({'id': 'count'})\n",
    "dt1.head()"
   ]
  },
  {
   "cell_type": "markdown",
   "metadata": {
    "id": "spu3r3vchLu0"
   },
   "source": [
    "#### 7. [0.5 балла] Найдите курсы по выбору, на которые записывались как студенты 18-го года набора, так и студенты 17-го года."
   ]
  },
  {
   "cell_type": "code",
   "execution_count": 17,
   "metadata": {
    "id": "t21fWi8ShLu0"
   },
   "outputs": [
    {
     "data": {
      "text/html": [
       "<div>\n",
       "<style scoped>\n",
       "    .dataframe tbody tr th:only-of-type {\n",
       "        vertical-align: middle;\n",
       "    }\n",
       "\n",
       "    .dataframe tbody tr th {\n",
       "        vertical-align: top;\n",
       "    }\n",
       "\n",
       "    .dataframe thead th {\n",
       "        text-align: right;\n",
       "    }\n",
       "</style>\n",
       "<table border=\"1\" class=\"dataframe\">\n",
       "  <thead>\n",
       "    <tr style=\"text-align: right;\">\n",
       "      <th></th>\n",
       "      <th>course</th>\n",
       "      <th>num</th>\n",
       "    </tr>\n",
       "  </thead>\n",
       "  <tbody>\n",
       "    <tr>\n",
       "      <th>0</th>\n",
       "      <td>Байесовские методы машинного обучения</td>\n",
       "      <td>30</td>\n",
       "    </tr>\n",
       "    <tr>\n",
       "      <th>1</th>\n",
       "      <td>Глубинное обучение в обработке звука</td>\n",
       "      <td>30</td>\n",
       "    </tr>\n",
       "    <tr>\n",
       "      <th>2</th>\n",
       "      <td>Анализ неструктурированных данных</td>\n",
       "      <td>300</td>\n",
       "    </tr>\n",
       "    <tr>\n",
       "      <th>3</th>\n",
       "      <td>Матричные вычисления</td>\n",
       "      <td>30</td>\n",
       "    </tr>\n",
       "    <tr>\n",
       "      <th>4</th>\n",
       "      <td>Принятие решений в условиях риска и неопределё...</td>\n",
       "      <td>30</td>\n",
       "    </tr>\n",
       "    <tr>\n",
       "      <th>5</th>\n",
       "      <td>Теория баз данных</td>\n",
       "      <td>30</td>\n",
       "    </tr>\n",
       "    <tr>\n",
       "      <th>6</th>\n",
       "      <td>Statistical Learning Theory</td>\n",
       "      <td>60</td>\n",
       "    </tr>\n",
       "    <tr>\n",
       "      <th>7</th>\n",
       "      <td>Сбор и обработка данных с помощью краудсорсинга</td>\n",
       "      <td>30</td>\n",
       "    </tr>\n",
       "    <tr>\n",
       "      <th>8</th>\n",
       "      <td>Язык SQL</td>\n",
       "      <td>30</td>\n",
       "    </tr>\n",
       "    <tr>\n",
       "      <th>9</th>\n",
       "      <td>Моделирование временных рядов</td>\n",
       "      <td>30</td>\n",
       "    </tr>\n",
       "    <tr>\n",
       "      <th>10</th>\n",
       "      <td>Безопасность компьютерных систем</td>\n",
       "      <td>30</td>\n",
       "    </tr>\n",
       "    <tr>\n",
       "      <th>11</th>\n",
       "      <td>Высокопроизводительные вычисления</td>\n",
       "      <td>60</td>\n",
       "    </tr>\n",
       "  </tbody>\n",
       "</table>\n",
       "</div>"
      ],
      "text/plain": [
       "                                               course  num\n",
       "0               Байесовские методы машинного обучения   30\n",
       "1                Глубинное обучение в обработке звука   30\n",
       "2                   Анализ неструктурированных данных  300\n",
       "3                                Матричные вычисления   30\n",
       "4   Принятие решений в условиях риска и неопределё...   30\n",
       "5                                   Теория баз данных   30\n",
       "6                         Statistical Learning Theory   60\n",
       "7     Сбор и обработка данных с помощью краудсорсинга   30\n",
       "8                                            Язык SQL   30\n",
       "9                       Моделирование временных рядов   30\n",
       "10                   Безопасность компьютерных систем   30\n",
       "11                  Высокопроизводительные вычисления   60"
      ]
     },
     "metadata": {},
     "output_type": "display_data"
    },
    {
     "data": {
      "text/html": [
       "<div>\n",
       "<style scoped>\n",
       "    .dataframe tbody tr th:only-of-type {\n",
       "        vertical-align: middle;\n",
       "    }\n",
       "\n",
       "    .dataframe tbody tr th {\n",
       "        vertical-align: top;\n",
       "    }\n",
       "\n",
       "    .dataframe thead th {\n",
       "        text-align: right;\n",
       "    }\n",
       "</style>\n",
       "<table border=\"1\" class=\"dataframe\">\n",
       "  <thead>\n",
       "    <tr style=\"text-align: right;\">\n",
       "      <th></th>\n",
       "      <th>course</th>\n",
       "    </tr>\n",
       "  </thead>\n",
       "  <tbody>\n",
       "    <tr>\n",
       "      <th>0</th>\n",
       "      <td>Генеративные модели в машинном обучении</td>\n",
       "    </tr>\n",
       "    <tr>\n",
       "      <th>1</th>\n",
       "      <td>Обучение с подкреплением</td>\n",
       "    </tr>\n",
       "    <tr>\n",
       "      <th>2</th>\n",
       "      <td>Проектирование и разработка высоконагруженных ...</td>\n",
       "    </tr>\n",
       "    <tr>\n",
       "      <th>3</th>\n",
       "      <td>Конфликты и кооперация</td>\n",
       "    </tr>\n",
       "    <tr>\n",
       "      <th>4</th>\n",
       "      <td>Символьные вычисления</td>\n",
       "    </tr>\n",
       "    <tr>\n",
       "      <th>5</th>\n",
       "      <td>Методы сжатия и передачи медиаданных</td>\n",
       "    </tr>\n",
       "    <tr>\n",
       "      <th>6</th>\n",
       "      <td>Компьютерное зрение</td>\n",
       "    </tr>\n",
       "    <tr>\n",
       "      <th>7</th>\n",
       "      <td>Компьютерные сети</td>\n",
       "    </tr>\n",
       "    <tr>\n",
       "      <th>8</th>\n",
       "      <td>Дискретная оптимизация</td>\n",
       "    </tr>\n",
       "    <tr>\n",
       "      <th>9</th>\n",
       "      <td>Дополнительные главы прикладной статистики</td>\n",
       "    </tr>\n",
       "    <tr>\n",
       "      <th>10</th>\n",
       "      <td>Промышленное программирование на языке Java</td>\n",
       "    </tr>\n",
       "    <tr>\n",
       "      <th>11</th>\n",
       "      <td>Анализ данных в бизнесе</td>\n",
       "    </tr>\n",
       "    <tr>\n",
       "      <th>12</th>\n",
       "      <td>Системы баз данных</td>\n",
       "    </tr>\n",
       "    <tr>\n",
       "      <th>13</th>\n",
       "      <td>Машинное обучение 2</td>\n",
       "    </tr>\n",
       "    <tr>\n",
       "      <th>14</th>\n",
       "      <td>Численные методы</td>\n",
       "    </tr>\n",
       "  </tbody>\n",
       "</table>\n",
       "</div>"
      ],
      "text/plain": [
       "                                               course\n",
       "0             Генеративные модели в машинном обучении\n",
       "1                            Обучение с подкреплением\n",
       "2   Проектирование и разработка высоконагруженных ...\n",
       "3                              Конфликты и кооперация\n",
       "4                               Символьные вычисления\n",
       "5                Методы сжатия и передачи медиаданных\n",
       "6                                 Компьютерное зрение\n",
       "7                                   Компьютерные сети\n",
       "8                              Дискретная оптимизация\n",
       "9          Дополнительные главы прикладной статистики\n",
       "10        Промышленное программирование на языке Java\n",
       "11                            Анализ данных в бизнесе\n",
       "12                                 Системы баз данных\n",
       "13                                Машинное обучение 2\n",
       "14                                   Численные методы"
      ]
     },
     "metadata": {},
     "output_type": "display_data"
    }
   ],
   "source": [
    "dt18 = data.copy()\n",
    "dt18 = dt18.loc[dt18['18_group'] > 0]\n",
    "courses18 = pd.concat([dt18['fall_1'], dt18['fall_2'], dt18['fall_3'], dt18['spring_1'], dt18['spring_2'], dt18['spring_3'], dt18['blended']], ignore_index=True).to_frame('course')\n",
    "courses18 = courses18.drop_duplicates(keep='last', ignore_index=True)\n",
    "dt17 = data.copy()\n",
    "dt17 = dt17.loc[dt17['17_group'] > 0]\n",
    "courses17 = pd.concat([dt17['fall_1'], dt17['fall_2'], dt17['fall_3'], dt17['spring_1'], dt17['spring_2'], dt17['spring_3']], ignore_index=True).to_frame('course')\n",
    "courses17 = courses17.drop_duplicates(keep='last', ignore_index=True)\n",
    "courses17\n",
    "\n",
    "\n",
    "courses_fall = pd.concat([dt17['fall_1'], dt17['fall_2'], dt17['fall_3'], dt18['fall_1'], dt18['fall_2'], dt18['fall_3']], ignore_index=True).to_frame('course').drop_duplicates(keep='last', ignore_index=True)\n",
    "courses_spring = pd.concat([dt17['spring_1'], dt17['spring_2'], dt17['spring_3'], dt18['spring_1'], dt18['spring_2'], dt18['spring_3']], ignore_index=True).to_frame('course').drop_duplicates(keep='last', ignore_index=True)\n",
    "courses_fall['num'] = 30\n",
    "courses_fall.loc[(courses_fall['course'] == 'Statistical Learning Theory') |\n",
    "                 (courses_fall['course'] == 'Высокопроизводительные вычисления'), 'num'] = 60\n",
    "courses_fall.loc[(courses_fall['course'] == 'Анализ неструктурированных данных'), 'num'] = 300\n",
    "\n",
    "\n",
    "display(courses_fall, courses_spring)\n"
   ]
  },
  {
   "cell_type": "code",
   "execution_count": 18,
   "metadata": {},
   "outputs": [
    {
     "data": {
      "text/html": [
       "<div>\n",
       "<style scoped>\n",
       "    .dataframe tbody tr th:only-of-type {\n",
       "        vertical-align: middle;\n",
       "    }\n",
       "\n",
       "    .dataframe tbody tr th {\n",
       "        vertical-align: top;\n",
       "    }\n",
       "\n",
       "    .dataframe thead th {\n",
       "        text-align: right;\n",
       "    }\n",
       "</style>\n",
       "<table border=\"1\" class=\"dataframe\">\n",
       "  <thead>\n",
       "    <tr style=\"text-align: right;\">\n",
       "      <th></th>\n",
       "      <th>course</th>\n",
       "    </tr>\n",
       "  </thead>\n",
       "  <tbody>\n",
       "    <tr>\n",
       "      <th>0</th>\n",
       "      <td>Матричные вычисления</td>\n",
       "    </tr>\n",
       "    <tr>\n",
       "      <th>1</th>\n",
       "      <td>Принятие решений в условиях риска и неопределё...</td>\n",
       "    </tr>\n",
       "    <tr>\n",
       "      <th>2</th>\n",
       "      <td>Теория баз данных</td>\n",
       "    </tr>\n",
       "    <tr>\n",
       "      <th>3</th>\n",
       "      <td>Statistical Learning Theory</td>\n",
       "    </tr>\n",
       "    <tr>\n",
       "      <th>4</th>\n",
       "      <td>Сбор и обработка данных с помощью краудсорсинга</td>\n",
       "    </tr>\n",
       "    <tr>\n",
       "      <th>5</th>\n",
       "      <td>Язык SQL</td>\n",
       "    </tr>\n",
       "    <tr>\n",
       "      <th>6</th>\n",
       "      <td>Моделирование временных рядов</td>\n",
       "    </tr>\n",
       "    <tr>\n",
       "      <th>7</th>\n",
       "      <td>Безопасность компьютерных систем</td>\n",
       "    </tr>\n",
       "    <tr>\n",
       "      <th>8</th>\n",
       "      <td>Высокопроизводительные вычисления</td>\n",
       "    </tr>\n",
       "    <tr>\n",
       "      <th>9</th>\n",
       "      <td>Компьютерные сети</td>\n",
       "    </tr>\n",
       "    <tr>\n",
       "      <th>10</th>\n",
       "      <td>Дискретная оптимизация</td>\n",
       "    </tr>\n",
       "    <tr>\n",
       "      <th>11</th>\n",
       "      <td>Дополнительные главы прикладной статистики</td>\n",
       "    </tr>\n",
       "    <tr>\n",
       "      <th>12</th>\n",
       "      <td>Промышленное программирование на языке Java</td>\n",
       "    </tr>\n",
       "    <tr>\n",
       "      <th>13</th>\n",
       "      <td>Анализ данных в бизнесе</td>\n",
       "    </tr>\n",
       "    <tr>\n",
       "      <th>14</th>\n",
       "      <td>Системы баз данных</td>\n",
       "    </tr>\n",
       "    <tr>\n",
       "      <th>15</th>\n",
       "      <td>Машинное обучение 2</td>\n",
       "    </tr>\n",
       "    <tr>\n",
       "      <th>16</th>\n",
       "      <td>Численные методы</td>\n",
       "    </tr>\n",
       "  </tbody>\n",
       "</table>\n",
       "</div>"
      ],
      "text/plain": [
       "                                               course\n",
       "0                                Матричные вычисления\n",
       "1   Принятие решений в условиях риска и неопределё...\n",
       "2                                   Теория баз данных\n",
       "3                         Statistical Learning Theory\n",
       "4     Сбор и обработка данных с помощью краудсорсинга\n",
       "5                                            Язык SQL\n",
       "6                       Моделирование временных рядов\n",
       "7                    Безопасность компьютерных систем\n",
       "8                   Высокопроизводительные вычисления\n",
       "9                                   Компьютерные сети\n",
       "10                             Дискретная оптимизация\n",
       "11         Дополнительные главы прикладной статистики\n",
       "12        Промышленное программирование на языке Java\n",
       "13                            Анализ данных в бизнесе\n",
       "14                                 Системы баз данных\n",
       "15                                Машинное обучение 2\n",
       "16                                   Численные методы"
      ]
     },
     "execution_count": 18,
     "metadata": {},
     "output_type": "execute_result"
    }
   ],
   "source": [
    "courses18 = courses18.loc[courses18['course'] != '']\n",
    "courses18"
   ]
  },
  {
   "cell_type": "code",
   "execution_count": 19,
   "metadata": {},
   "outputs": [
    {
     "data": {
      "text/html": [
       "<div>\n",
       "<style scoped>\n",
       "    .dataframe tbody tr th:only-of-type {\n",
       "        vertical-align: middle;\n",
       "    }\n",
       "\n",
       "    .dataframe tbody tr th {\n",
       "        vertical-align: top;\n",
       "    }\n",
       "\n",
       "    .dataframe thead th {\n",
       "        text-align: right;\n",
       "    }\n",
       "</style>\n",
       "<table border=\"1\" class=\"dataframe\">\n",
       "  <thead>\n",
       "    <tr style=\"text-align: right;\">\n",
       "      <th></th>\n",
       "      <th>course</th>\n",
       "    </tr>\n",
       "  </thead>\n",
       "  <tbody>\n",
       "    <tr>\n",
       "      <th>0</th>\n",
       "      <td>Принятие решений в условиях риска и неопределё...</td>\n",
       "    </tr>\n",
       "    <tr>\n",
       "      <th>1</th>\n",
       "      <td>Statistical Learning Theory</td>\n",
       "    </tr>\n",
       "    <tr>\n",
       "      <th>2</th>\n",
       "      <td>Сбор и обработка данных с помощью краудсорсинга</td>\n",
       "    </tr>\n",
       "    <tr>\n",
       "      <th>3</th>\n",
       "      <td>Моделирование временных рядов</td>\n",
       "    </tr>\n",
       "    <tr>\n",
       "      <th>4</th>\n",
       "      <td>Безопасность компьютерных систем</td>\n",
       "    </tr>\n",
       "    <tr>\n",
       "      <th>5</th>\n",
       "      <td>Высокопроизводительные вычисления</td>\n",
       "    </tr>\n",
       "    <tr>\n",
       "      <th>6</th>\n",
       "      <td>Численные методы</td>\n",
       "    </tr>\n",
       "  </tbody>\n",
       "</table>\n",
       "</div>"
      ],
      "text/plain": [
       "                                              course\n",
       "0  Принятие решений в условиях риска и неопределё...\n",
       "1                        Statistical Learning Theory\n",
       "2    Сбор и обработка данных с помощью краудсорсинга\n",
       "3                      Моделирование временных рядов\n",
       "4                   Безопасность компьютерных систем\n",
       "5                  Высокопроизводительные вычисления\n",
       "6                                   Численные методы"
      ]
     },
     "execution_count": 19,
     "metadata": {},
     "output_type": "execute_result"
    }
   ],
   "source": [
    "# курсы студентов 17 и 18 года\n",
    "courses18.merge(courses17, how='inner', on='course')"
   ]
  },
  {
   "cell_type": "markdown",
   "metadata": {
    "id": "PYfX-Dr5hLu0"
   },
   "source": [
    "Методом исключения найдите курсы, которые предлагались только студентам 18-го года и только студентам 17-го года."
   ]
  },
  {
   "cell_type": "code",
   "execution_count": 20,
   "metadata": {
    "id": "G9SWBOpehLu1"
   },
   "outputs": [
    {
     "data": {
      "text/html": [
       "<div>\n",
       "<style scoped>\n",
       "    .dataframe tbody tr th:only-of-type {\n",
       "        vertical-align: middle;\n",
       "    }\n",
       "\n",
       "    .dataframe tbody tr th {\n",
       "        vertical-align: top;\n",
       "    }\n",
       "\n",
       "    .dataframe thead th {\n",
       "        text-align: right;\n",
       "    }\n",
       "</style>\n",
       "<table border=\"1\" class=\"dataframe\">\n",
       "  <thead>\n",
       "    <tr style=\"text-align: right;\">\n",
       "      <th></th>\n",
       "      <th>course</th>\n",
       "    </tr>\n",
       "  </thead>\n",
       "  <tbody>\n",
       "    <tr>\n",
       "      <th>0</th>\n",
       "      <td>Матричные вычисления</td>\n",
       "    </tr>\n",
       "    <tr>\n",
       "      <th>2</th>\n",
       "      <td>Теория баз данных</td>\n",
       "    </tr>\n",
       "    <tr>\n",
       "      <th>5</th>\n",
       "      <td>Язык SQL</td>\n",
       "    </tr>\n",
       "    <tr>\n",
       "      <th>9</th>\n",
       "      <td>Компьютерные сети</td>\n",
       "    </tr>\n",
       "    <tr>\n",
       "      <th>10</th>\n",
       "      <td>Дискретная оптимизация</td>\n",
       "    </tr>\n",
       "    <tr>\n",
       "      <th>11</th>\n",
       "      <td>Дополнительные главы прикладной статистики</td>\n",
       "    </tr>\n",
       "    <tr>\n",
       "      <th>12</th>\n",
       "      <td>Промышленное программирование на языке Java</td>\n",
       "    </tr>\n",
       "    <tr>\n",
       "      <th>13</th>\n",
       "      <td>Анализ данных в бизнесе</td>\n",
       "    </tr>\n",
       "    <tr>\n",
       "      <th>14</th>\n",
       "      <td>Системы баз данных</td>\n",
       "    </tr>\n",
       "    <tr>\n",
       "      <th>15</th>\n",
       "      <td>Машинное обучение 2</td>\n",
       "    </tr>\n",
       "  </tbody>\n",
       "</table>\n",
       "</div>"
      ],
      "text/plain": [
       "                                         course\n",
       "0                          Матричные вычисления\n",
       "2                             Теория баз данных\n",
       "5                                      Язык SQL\n",
       "9                             Компьютерные сети\n",
       "10                       Дискретная оптимизация\n",
       "11   Дополнительные главы прикладной статистики\n",
       "12  Промышленное программирование на языке Java\n",
       "13                      Анализ данных в бизнесе\n",
       "14                           Системы баз данных\n",
       "15                          Машинное обучение 2"
      ]
     },
     "execution_count": 20,
     "metadata": {},
     "output_type": "execute_result"
    }
   ],
   "source": [
    "# Только студентам 18 года\n",
    "courses_only18 = pd.merge(courses18, courses17, how='left', on='course', indicator=True)\n",
    "courses_only18.loc[courses_only18['_merge'] == 'left_only'].drop('_merge', axis=1)"
   ]
  },
  {
   "cell_type": "code",
   "execution_count": 21,
   "metadata": {},
   "outputs": [
    {
     "data": {
      "text/html": [
       "<div>\n",
       "<style scoped>\n",
       "    .dataframe tbody tr th:only-of-type {\n",
       "        vertical-align: middle;\n",
       "    }\n",
       "\n",
       "    .dataframe tbody tr th {\n",
       "        vertical-align: top;\n",
       "    }\n",
       "\n",
       "    .dataframe thead th {\n",
       "        text-align: right;\n",
       "    }\n",
       "</style>\n",
       "<table border=\"1\" class=\"dataframe\">\n",
       "  <thead>\n",
       "    <tr style=\"text-align: right;\">\n",
       "      <th></th>\n",
       "      <th>course</th>\n",
       "    </tr>\n",
       "  </thead>\n",
       "  <tbody>\n",
       "    <tr>\n",
       "      <th>1</th>\n",
       "      <td>Байесовские методы машинного обучения</td>\n",
       "    </tr>\n",
       "    <tr>\n",
       "      <th>2</th>\n",
       "      <td>Глубинное обучение в обработке звука</td>\n",
       "    </tr>\n",
       "    <tr>\n",
       "      <th>8</th>\n",
       "      <td>Анализ неструктурированных данных</td>\n",
       "    </tr>\n",
       "    <tr>\n",
       "      <th>9</th>\n",
       "      <td>Генеративные модели в машинном обучении</td>\n",
       "    </tr>\n",
       "    <tr>\n",
       "      <th>10</th>\n",
       "      <td>Обучение с подкреплением</td>\n",
       "    </tr>\n",
       "    <tr>\n",
       "      <th>11</th>\n",
       "      <td>Проектирование и разработка высоконагруженных ...</td>\n",
       "    </tr>\n",
       "    <tr>\n",
       "      <th>12</th>\n",
       "      <td>Конфликты и кооперация</td>\n",
       "    </tr>\n",
       "    <tr>\n",
       "      <th>13</th>\n",
       "      <td>Символьные вычисления</td>\n",
       "    </tr>\n",
       "    <tr>\n",
       "      <th>15</th>\n",
       "      <td>Методы сжатия и передачи медиаданных</td>\n",
       "    </tr>\n",
       "    <tr>\n",
       "      <th>16</th>\n",
       "      <td>Компьютерное зрение</td>\n",
       "    </tr>\n",
       "  </tbody>\n",
       "</table>\n",
       "</div>"
      ],
      "text/plain": [
       "                                               course\n",
       "1               Байесовские методы машинного обучения\n",
       "2                Глубинное обучение в обработке звука\n",
       "8                   Анализ неструктурированных данных\n",
       "9             Генеративные модели в машинном обучении\n",
       "10                           Обучение с подкреплением\n",
       "11  Проектирование и разработка высоконагруженных ...\n",
       "12                             Конфликты и кооперация\n",
       "13                              Символьные вычисления\n",
       "15               Методы сжатия и передачи медиаданных\n",
       "16                                Компьютерное зрение"
      ]
     },
     "execution_count": 21,
     "metadata": {},
     "output_type": "execute_result"
    }
   ],
   "source": [
    "# Только студентам 17 года\n",
    "courses_only17 = pd.merge(courses17, courses18, how='left', on='course', indicator=True)\n",
    "courses_only17.loc[courses_only17['_merge'] == 'left_only'].drop('_merge', axis=1)"
   ]
  },
  {
   "cell_type": "markdown",
   "metadata": {
    "id": "uL45Tg5fhLu1"
   },
   "source": [
    "### Визуализации и matplotlib"
   ]
  },
  {
   "cell_type": "markdown",
   "metadata": {
    "id": "MY9lKmP2hLu1"
   },
   "source": [
    "При работе с данными часто неудобно делать какие-то выводы, если смотреть на таблицу и числа в частности, поэтому важно уметь визуализировать данные. Здесь будут описаны ключевые правила оформления графиков для **всех** домашних заданий.\n",
    "\n",
    "У matplotlib, конечно же, есть [документация](https://matplotlib.org/users/index.html) с большим количеством [примеров](https://matplotlib.org/examples/), но для начала достаточно знать про несколько основных типов графиков:\n",
    "- plot — обычный поточечный график, которым можно изображать кривые или отдельные точки;\n",
    "- hist — гистограмма, показывающая распределение некоторой величины;\n",
    "- scatter — график, показывающий взаимосвязь двух величин;\n",
    "- bar — столбцовый график, показывающий взаимосвязь количественной величины от категориальной.\n",
    "\n",
    "В этом задании вы попробуете построить один из них. Не забывайте про базовые принципы построения приличных графиков:\n",
    "- оси должны быть подписаны, причём не слишком мелко;\n",
    "- у графика должно быть название;\n",
    "- если изображено несколько графиков, то необходима поясняющая легенда;\n",
    "- все линии на графиках должны быть чётко видны (нет похожих цветов или цветов, сливающихся с фоном);\n",
    "- если отображена величина, имеющая очевидный диапазон значений (например, проценты могут быть от 0 до 100), то желательно масштабировать ось на весь диапазон значений (исключением является случай, когда вам необходимо показать малое отличие, которое незаметно в таких масштабах);\n",
    "- сетка на графике помогает оценить значения в точках на глаз, это обычно полезно, поэтому лучше ее отрисовывать;\n",
    "- если распределение на гистограмме имеет тяжёлые хвосты, лучше использовать логарифмическую шкалу.\n",
    "\n",
    "Еще одна билиотека для визуализации: [seaborn](https://jakevdp.github.io/PythonDataScienceHandbook/04.14-visualization-with-seaborn.html) (обычно сокращается до sns). Это настройка над matplotlib, иногда удобнее и красивее делать визуализации через неё. \n",
    "\n",
    "**5 пунктов после которых ваши графики не будут прежними:**\n",
    "- для красивой картинки <code>%config InlineBackend.figure_format = 'retina'</code>\n",
    "- задаем размер (почти) всех графиков (можно выбрать другие значения) <code>plt.rcParams['figure.figsize'] = 8, 5</code>\n",
    "- размер шрифта подписей графиков <code>plt.rcParams['font.size'] = 12</code>\n",
    "- формат в котором сохраняется изображение <code>mpl.rcParams['savefig.format'] = 'pdf'</code>\n",
    "- sns – seaborn, добавляет решетку <code>sns.set_style('darkgrid')</code>\n",
    "\n",
    "Добавьте эти функции в ячейку ниже. Каждый график все равно придется настраивать отдельно, но указанные строчки позволят значительно упростить процесс.  "
   ]
  },
  {
   "cell_type": "code",
   "execution_count": 22,
   "metadata": {
    "id": "na9doUOFhLu1"
   },
   "outputs": [],
   "source": [
    "%matplotlib inline\n",
    "import matplotlib.pyplot as plt\n",
    "import seaborn as sns\n",
    "\n",
    "%config InlineBackend.figure_format = 'retina'\n",
    "plt.rcParams['figure.figsize'] = 8, 5\n",
    "plt.rcParams['font.size'] = 12\n",
    "mpl.rcParams['savefig.format'] = 'pdf'\n",
    "sns.set_style('darkgrid')"
   ]
  },
  {
   "cell_type": "markdown",
   "metadata": {
    "id": "kikwLpxfhLu1"
   },
   "source": [
    "#### 8. [0.5 балла] Постройте график средних рейтингов по дням получения ответов (bar plot)."
   ]
  },
  {
   "cell_type": "code",
   "execution_count": 23,
   "metadata": {},
   "outputs": [
    {
     "data": {
      "text/html": [
       "<div>\n",
       "<style scoped>\n",
       "    .dataframe tbody tr th:only-of-type {\n",
       "        vertical-align: middle;\n",
       "    }\n",
       "\n",
       "    .dataframe tbody tr th {\n",
       "        vertical-align: top;\n",
       "    }\n",
       "\n",
       "    .dataframe thead th {\n",
       "        text-align: right;\n",
       "    }\n",
       "</style>\n",
       "<table border=\"1\" class=\"dataframe\">\n",
       "  <thead>\n",
       "    <tr style=\"text-align: right;\">\n",
       "      <th></th>\n",
       "      <th>timestamp</th>\n",
       "      <th>id</th>\n",
       "      <th>rating</th>\n",
       "      <th>18_group</th>\n",
       "      <th>is_mi</th>\n",
       "      <th>fall_1</th>\n",
       "      <th>fall_2</th>\n",
       "      <th>fall_3</th>\n",
       "      <th>spring_1</th>\n",
       "      <th>spring_2</th>\n",
       "      <th>spring_3</th>\n",
       "      <th>is_first_time</th>\n",
       "      <th>percentile</th>\n",
       "      <th>17_group</th>\n",
       "      <th>blended</th>\n",
       "      <th>is_ml_student</th>\n",
       "      <th>date</th>\n",
       "    </tr>\n",
       "  </thead>\n",
       "  <tbody>\n",
       "    <tr>\n",
       "      <th>223</th>\n",
       "      <td>2020-05-14 20:23:21.662</td>\n",
       "      <td>d555d2805e1d93d4f023e57dc4c8f403</td>\n",
       "      <td>996</td>\n",
       "      <td>0.0</td>\n",
       "      <td>0.0</td>\n",
       "      <td>Безопасность компьютерных систем</td>\n",
       "      <td>Глубинное обучение в обработке звука</td>\n",
       "      <td>Байесовские методы машинного обучения</td>\n",
       "      <td>Компьютерное зрение</td>\n",
       "      <td>Обучение с подкреплением</td>\n",
       "      <td>Проектирование и разработка высоконагруженных ...</td>\n",
       "      <td>Да</td>\n",
       "      <td>0.963768</td>\n",
       "      <td>172.0</td>\n",
       "      <td>DevOps</td>\n",
       "      <td>0.0</td>\n",
       "      <td>2020-05-14</td>\n",
       "    </tr>\n",
       "    <tr>\n",
       "      <th>224</th>\n",
       "      <td>2020-05-14 20:47:13.833</td>\n",
       "      <td>253bbe1a2021d0404712a1e4acd22939</td>\n",
       "      <td>1106</td>\n",
       "      <td>0.0</td>\n",
       "      <td>0.0</td>\n",
       "      <td>Безопасность компьютерных систем</td>\n",
       "      <td>Моделирование временных рядов</td>\n",
       "      <td>Statistical Learning Theory</td>\n",
       "      <td>Проектирование и разработка высоконагруженных ...</td>\n",
       "      <td>Численные методы</td>\n",
       "      <td>Методы сжатия и передачи медиаданных</td>\n",
       "      <td>Да</td>\n",
       "      <td>0.673913</td>\n",
       "      <td>176.0</td>\n",
       "      <td>DevOps</td>\n",
       "      <td>0.0</td>\n",
       "      <td>2020-05-14</td>\n",
       "    </tr>\n",
       "    <tr>\n",
       "      <th>225</th>\n",
       "      <td>2020-05-14 20:52:42.734</td>\n",
       "      <td>881b1a6fda195b354ae2edb396a69f5d</td>\n",
       "      <td>1084</td>\n",
       "      <td>0.0</td>\n",
       "      <td>0.0</td>\n",
       "      <td>Безопасность компьютерных систем</td>\n",
       "      <td>Анализ неструктурированных данных</td>\n",
       "      <td>Глубинное обучение в обработке звука</td>\n",
       "      <td>Компьютерное зрение</td>\n",
       "      <td>Проектирование и разработка высоконагруженных ...</td>\n",
       "      <td>Генеративные модели в машинном обучении</td>\n",
       "      <td>Да</td>\n",
       "      <td>0.782609</td>\n",
       "      <td>172.0</td>\n",
       "      <td>DevOps</td>\n",
       "      <td>0.0</td>\n",
       "      <td>2020-05-14</td>\n",
       "    </tr>\n",
       "    <tr>\n",
       "      <th>226</th>\n",
       "      <td>2020-05-14 21:03:02.916</td>\n",
       "      <td>5a9b8ac11ad05b39a58b0e04a263bf4c</td>\n",
       "      <td>1170</td>\n",
       "      <td>0.0</td>\n",
       "      <td>0.0</td>\n",
       "      <td>Глубинное обучение в обработке звука</td>\n",
       "      <td>Statistical Learning Theory</td>\n",
       "      <td>Сбор и обработка данных с помощью краудсорсинга</td>\n",
       "      <td>Конфликты и кооперация</td>\n",
       "      <td>Обучение с подкреплением</td>\n",
       "      <td>Генеративные модели в машинном обучении</td>\n",
       "      <td>Да</td>\n",
       "      <td>0.442029</td>\n",
       "      <td>171.0</td>\n",
       "      <td>DevOps</td>\n",
       "      <td>0.0</td>\n",
       "      <td>2020-05-14</td>\n",
       "    </tr>\n",
       "    <tr>\n",
       "      <th>227</th>\n",
       "      <td>2020-05-14 21:10:54.945</td>\n",
       "      <td>1bbbfae51794b83c769b634be8da7b8d</td>\n",
       "      <td>1078</td>\n",
       "      <td>0.0</td>\n",
       "      <td>0.0</td>\n",
       "      <td>Безопасность компьютерных систем</td>\n",
       "      <td>Высокопроизводительные вычисления</td>\n",
       "      <td>Анализ неструктурированных данных</td>\n",
       "      <td>Проектирование и разработка высоконагруженных ...</td>\n",
       "      <td>Методы сжатия и передачи медиаданных</td>\n",
       "      <td>Конфликты и кооперация</td>\n",
       "      <td>Да</td>\n",
       "      <td>0.789855</td>\n",
       "      <td>176.0</td>\n",
       "      <td>DevOps</td>\n",
       "      <td>0.0</td>\n",
       "      <td>2020-05-14</td>\n",
       "    </tr>\n",
       "    <tr>\n",
       "      <th>...</th>\n",
       "      <td>...</td>\n",
       "      <td>...</td>\n",
       "      <td>...</td>\n",
       "      <td>...</td>\n",
       "      <td>...</td>\n",
       "      <td>...</td>\n",
       "      <td>...</td>\n",
       "      <td>...</td>\n",
       "      <td>...</td>\n",
       "      <td>...</td>\n",
       "      <td>...</td>\n",
       "      <td>...</td>\n",
       "      <td>...</td>\n",
       "      <td>...</td>\n",
       "      <td>...</td>\n",
       "      <td>...</td>\n",
       "      <td>...</td>\n",
       "    </tr>\n",
       "    <tr>\n",
       "      <th>220</th>\n",
       "      <td>2020-05-21 16:33:15.899</td>\n",
       "      <td>1341f488fae5f1ccf164960fd6506cd0</td>\n",
       "      <td>584</td>\n",
       "      <td>188.0</td>\n",
       "      <td>0.0</td>\n",
       "      <td>Язык SQL</td>\n",
       "      <td>Теория баз данных</td>\n",
       "      <td>Безопасность компьютерных систем</td>\n",
       "      <td>Промышленное программирование на языке Java</td>\n",
       "      <td>Компьютерные сети</td>\n",
       "      <td>Системы баз данных</td>\n",
       "      <td>Да</td>\n",
       "      <td>0.721973</td>\n",
       "      <td>0.0</td>\n",
       "      <td></td>\n",
       "      <td>0.0</td>\n",
       "      <td>2020-05-21</td>\n",
       "    </tr>\n",
       "    <tr>\n",
       "      <th>360</th>\n",
       "      <td>2020-05-23 21:16:40.916</td>\n",
       "      <td>f2d210ace25a841e1e58036b257d5d47</td>\n",
       "      <td>1195</td>\n",
       "      <td>0.0</td>\n",
       "      <td>0.0</td>\n",
       "      <td>Анализ неструктурированных данных</td>\n",
       "      <td>Моделирование временных рядов</td>\n",
       "      <td>Высокопроизводительные вычисления</td>\n",
       "      <td>Обучение с подкреплением</td>\n",
       "      <td>Компьютерное зрение</td>\n",
       "      <td>Методы сжатия и передачи медиаданных</td>\n",
       "      <td></td>\n",
       "      <td>0.369565</td>\n",
       "      <td>176.0</td>\n",
       "      <td>Соревновательный анализ данных</td>\n",
       "      <td>0.0</td>\n",
       "      <td>2020-05-23</td>\n",
       "    </tr>\n",
       "    <tr>\n",
       "      <th>359</th>\n",
       "      <td>2020-05-23 21:16:40.916</td>\n",
       "      <td>79d14db48e4737af731960ae212d5134</td>\n",
       "      <td>966</td>\n",
       "      <td>0.0</td>\n",
       "      <td>0.0</td>\n",
       "      <td>Безопасность компьютерных систем</td>\n",
       "      <td>Принятие решений в условиях риска и неопределё...</td>\n",
       "      <td>Анализ неструктурированных данных</td>\n",
       "      <td>Проектирование и разработка высоконагруженных ...</td>\n",
       "      <td>Методы сжатия и передачи медиаданных</td>\n",
       "      <td>Компьютерное зрение</td>\n",
       "      <td>Да</td>\n",
       "      <td>0.985507</td>\n",
       "      <td>172.0</td>\n",
       "      <td>DevOps</td>\n",
       "      <td>0.0</td>\n",
       "      <td>2020-05-23</td>\n",
       "    </tr>\n",
       "    <tr>\n",
       "      <th>221</th>\n",
       "      <td>2020-05-24 01:21:31.946</td>\n",
       "      <td>04bcb5c9d23813ffa940e1febb27fadc</td>\n",
       "      <td>646</td>\n",
       "      <td>186.0</td>\n",
       "      <td>0.0</td>\n",
       "      <td>Теория баз данных</td>\n",
       "      <td>Высокопроизводительные вычисления</td>\n",
       "      <td>Безопасность компьютерных систем</td>\n",
       "      <td>Компьютерные сети</td>\n",
       "      <td>Дискретная оптимизация</td>\n",
       "      <td>Машинное обучение 2</td>\n",
       "      <td>Нет</td>\n",
       "      <td>0.430493</td>\n",
       "      <td>0.0</td>\n",
       "      <td></td>\n",
       "      <td>0.0</td>\n",
       "      <td>2020-05-24</td>\n",
       "    </tr>\n",
       "    <tr>\n",
       "      <th>222</th>\n",
       "      <td>2020-05-24 01:23:31.946</td>\n",
       "      <td>9d19b0d5f4fc8d7edc2258406f872c4e</td>\n",
       "      <td>695</td>\n",
       "      <td>188.0</td>\n",
       "      <td>0.0</td>\n",
       "      <td>Безопасность компьютерных систем</td>\n",
       "      <td>Язык SQL</td>\n",
       "      <td>Высокопроизводительные вычисления</td>\n",
       "      <td>Компьютерные сети</td>\n",
       "      <td>Дискретная оптимизация</td>\n",
       "      <td>Численные методы</td>\n",
       "      <td></td>\n",
       "      <td>0.197309</td>\n",
       "      <td>0.0</td>\n",
       "      <td></td>\n",
       "      <td>0.0</td>\n",
       "      <td>2020-05-24</td>\n",
       "    </tr>\n",
       "  </tbody>\n",
       "</table>\n",
       "<p>347 rows × 17 columns</p>\n",
       "</div>"
      ],
      "text/plain": [
       "                  timestamp                                id  rating  \\\n",
       "223 2020-05-14 20:23:21.662  d555d2805e1d93d4f023e57dc4c8f403     996   \n",
       "224 2020-05-14 20:47:13.833  253bbe1a2021d0404712a1e4acd22939    1106   \n",
       "225 2020-05-14 20:52:42.734  881b1a6fda195b354ae2edb396a69f5d    1084   \n",
       "226 2020-05-14 21:03:02.916  5a9b8ac11ad05b39a58b0e04a263bf4c    1170   \n",
       "227 2020-05-14 21:10:54.945  1bbbfae51794b83c769b634be8da7b8d    1078   \n",
       "..                      ...                               ...     ...   \n",
       "220 2020-05-21 16:33:15.899  1341f488fae5f1ccf164960fd6506cd0     584   \n",
       "360 2020-05-23 21:16:40.916  f2d210ace25a841e1e58036b257d5d47    1195   \n",
       "359 2020-05-23 21:16:40.916  79d14db48e4737af731960ae212d5134     966   \n",
       "221 2020-05-24 01:21:31.946  04bcb5c9d23813ffa940e1febb27fadc     646   \n",
       "222 2020-05-24 01:23:31.946  9d19b0d5f4fc8d7edc2258406f872c4e     695   \n",
       "\n",
       "     18_group  is_mi                                fall_1  \\\n",
       "223       0.0    0.0      Безопасность компьютерных систем   \n",
       "224       0.0    0.0      Безопасность компьютерных систем   \n",
       "225       0.0    0.0      Безопасность компьютерных систем   \n",
       "226       0.0    0.0  Глубинное обучение в обработке звука   \n",
       "227       0.0    0.0      Безопасность компьютерных систем   \n",
       "..        ...    ...                                   ...   \n",
       "220     188.0    0.0                              Язык SQL   \n",
       "360       0.0    0.0     Анализ неструктурированных данных   \n",
       "359       0.0    0.0      Безопасность компьютерных систем   \n",
       "221     186.0    0.0                     Теория баз данных   \n",
       "222     188.0    0.0      Безопасность компьютерных систем   \n",
       "\n",
       "                                                fall_2  \\\n",
       "223               Глубинное обучение в обработке звука   \n",
       "224                      Моделирование временных рядов   \n",
       "225                  Анализ неструктурированных данных   \n",
       "226                        Statistical Learning Theory   \n",
       "227                  Высокопроизводительные вычисления   \n",
       "..                                                 ...   \n",
       "220                                  Теория баз данных   \n",
       "360                      Моделирование временных рядов   \n",
       "359  Принятие решений в условиях риска и неопределё...   \n",
       "221                  Высокопроизводительные вычисления   \n",
       "222                                           Язык SQL   \n",
       "\n",
       "                                              fall_3  \\\n",
       "223            Байесовские методы машинного обучения   \n",
       "224                      Statistical Learning Theory   \n",
       "225             Глубинное обучение в обработке звука   \n",
       "226  Сбор и обработка данных с помощью краудсорсинга   \n",
       "227                Анализ неструктурированных данных   \n",
       "..                                               ...   \n",
       "220                 Безопасность компьютерных систем   \n",
       "360                Высокопроизводительные вычисления   \n",
       "359                Анализ неструктурированных данных   \n",
       "221                 Безопасность компьютерных систем   \n",
       "222                Высокопроизводительные вычисления   \n",
       "\n",
       "                                              spring_1  \\\n",
       "223                                Компьютерное зрение   \n",
       "224  Проектирование и разработка высоконагруженных ...   \n",
       "225                                Компьютерное зрение   \n",
       "226                             Конфликты и кооперация   \n",
       "227  Проектирование и разработка высоконагруженных ...   \n",
       "..                                                 ...   \n",
       "220        Промышленное программирование на языке Java   \n",
       "360                           Обучение с подкреплением   \n",
       "359  Проектирование и разработка высоконагруженных ...   \n",
       "221                                  Компьютерные сети   \n",
       "222                                  Компьютерные сети   \n",
       "\n",
       "                                              spring_2  \\\n",
       "223                           Обучение с подкреплением   \n",
       "224                                   Численные методы   \n",
       "225  Проектирование и разработка высоконагруженных ...   \n",
       "226                           Обучение с подкреплением   \n",
       "227               Методы сжатия и передачи медиаданных   \n",
       "..                                                 ...   \n",
       "220                                  Компьютерные сети   \n",
       "360                                Компьютерное зрение   \n",
       "359               Методы сжатия и передачи медиаданных   \n",
       "221                             Дискретная оптимизация   \n",
       "222                             Дискретная оптимизация   \n",
       "\n",
       "                                              spring_3 is_first_time  \\\n",
       "223  Проектирование и разработка высоконагруженных ...            Да   \n",
       "224               Методы сжатия и передачи медиаданных            Да   \n",
       "225            Генеративные модели в машинном обучении            Да   \n",
       "226            Генеративные модели в машинном обучении            Да   \n",
       "227                             Конфликты и кооперация            Да   \n",
       "..                                                 ...           ...   \n",
       "220                                 Системы баз данных            Да   \n",
       "360               Методы сжатия и передачи медиаданных                 \n",
       "359                                Компьютерное зрение            Да   \n",
       "221                                Машинное обучение 2           Нет   \n",
       "222                                   Численные методы                 \n",
       "\n",
       "     percentile  17_group                         blended  is_ml_student  \\\n",
       "223    0.963768     172.0                          DevOps            0.0   \n",
       "224    0.673913     176.0                          DevOps            0.0   \n",
       "225    0.782609     172.0                          DevOps            0.0   \n",
       "226    0.442029     171.0                          DevOps            0.0   \n",
       "227    0.789855     176.0                          DevOps            0.0   \n",
       "..          ...       ...                             ...            ...   \n",
       "220    0.721973       0.0                                            0.0   \n",
       "360    0.369565     176.0  Соревновательный анализ данных            0.0   \n",
       "359    0.985507     172.0                          DevOps            0.0   \n",
       "221    0.430493       0.0                                            0.0   \n",
       "222    0.197309       0.0                                            0.0   \n",
       "\n",
       "           date  \n",
       "223  2020-05-14  \n",
       "224  2020-05-14  \n",
       "225  2020-05-14  \n",
       "226  2020-05-14  \n",
       "227  2020-05-14  \n",
       "..          ...  \n",
       "220  2020-05-21  \n",
       "360  2020-05-23  \n",
       "359  2020-05-23  \n",
       "221  2020-05-24  \n",
       "222  2020-05-24  \n",
       "\n",
       "[347 rows x 17 columns]"
      ]
     },
     "execution_count": 23,
     "metadata": {},
     "output_type": "execute_result"
    }
   ],
   "source": [
    "data['date'] = data['timestamp'].dt.date\n",
    "data\n",
    "#data.dtypes\n",
    "#df['just_date'] = df['dates'].dt.date"
   ]
  },
  {
   "cell_type": "code",
   "execution_count": 24,
   "metadata": {
    "id": "UTPLVeQvhLu2",
    "scrolled": true
   },
   "outputs": [
    {
     "data": {
      "image/png": "[encoded data removed]",
      "text/plain": [
       "<Figure size 576x360 with 1 Axes>"
      ]
     },
     "metadata": {
      "image/png": {
       "height": 336,
       "width": 510
      }
     },
     "output_type": "display_data"
    }
   ],
   "source": [
    "dtp = data.groupby(['date']).agg({'rating': 'mean'}).reset_index()\n",
    "\n",
    "plt.bar(dtp['date'], dtp['rating'])\n",
    "\n",
    "plt.title('Связь средних рейтингов и дат заявок')\n",
    "plt.ylabel('rating')\n",
    "plt.xlabel('dates')\n",
    "plt.show()"
   ]
  },
  {
   "cell_type": "markdown",
   "metadata": {
    "id": "AmsQg9_xhLu2"
   },
   "source": [
    "Сохраните график в формате pdf (так он останется векторизованным)."
   ]
  },
  {
   "cell_type": "code",
   "execution_count": 25,
   "metadata": {
    "id": "vKZNSwWghLu2"
   },
   "outputs": [
    {
     "data": {
      "text/plain": [
       "<Figure size 576x360 with 0 Axes>"
      ]
     },
     "metadata": {},
     "output_type": "display_data"
    }
   ],
   "source": [
    "plt.savefig(\"plt\")"
   ]
  },
  {
   "cell_type": "markdown",
   "metadata": {
    "id": "sCgWwjl0hLu2"
   },
   "source": [
    "### 2. Распределение студентов по курсам."
   ]
  },
  {
   "cell_type": "markdown",
   "metadata": {},
   "source": [
    "<span style=\"color:red\">!!!ВНИМАТЕЛЬНО ИЗУЧИТЕ ТЕКСТ НИЖЕ!!!</span>.\n",
    "\n",
    "<span style=\"color:orange\">Если во время выполнения заданий у вас вознинут вопросы -- еще раз перечитайте текст целиком, скорее всего ответы уже содержатся в нем.</span>"
   ]
  },
  {
   "cell_type": "markdown",
   "metadata": {
    "id": "VNqXUpr4hLu3"
   },
   "source": [
    "Теперь вам нужно распределить студентов по осенним курсам по выбору, учитывая их предпочтения."
   ]
  },
  {
   "cell_type": "markdown",
   "metadata": {
    "id": "5cAR2FgphLu3"
   },
   "source": [
    "Алгоритм распределения студентов по курсам:\n",
    "1. По умолчанию на каждой дисциплине по выбору у 3 и 4 курсов может учиться 1 группа (до 30 студентов). Исключения описаны ниже. На blended-дисциплинах для четверокурсников количество мест не ограничено.\n",
    "2. Проводится первая волна отбора. Для каждой дисциплины формируется список тех, кто указал её первым приоритетом (если студент должен выбрать два курса по выбору, то для него дисциплины, которые он указал первым и вторым приоритетом, рассматриваются как дисциплины первого приоритета). Если желающих больше, чем мест, то выбирается топ по перцентилю рейтинга.\n",
    "3. На дисциплинах, где остались места после первой волны, формируются списки тех, кто выбрал их вторым приоритетом, и места заполняются лучшими по перцентили рейтинга студентами. После этого проводится такая же процедура для дисциплин третьего приоритета.\n",
    "4. Если студент не попал на необходимое количество курсов по итогам трёх волн, с ним связывается учебный офис и решает вопрос в индивидуальном порядке."
   ]
  },
  {
   "cell_type": "markdown",
   "metadata": {
    "id": "BiNKVwS6hLu3"
   },
   "source": [
    "Обращаем ваше внимание на следующие детали:\n",
    "- Конкурс на каждый курс общий для 3-го и 4-го курса\n",
    "\n",
    "- По умолчанию студент выбирает один осенний и один весенний курс по выбору, а также четверокурсники выбирают один blended-курс. Студенты групп 17-го года специализаций МОП и ТИ выбирают по 2 осенних и 2 весенних курса по выбору, также студенты групп 18' специализации МИ выбирают 2 осенних курса. <i>Для студентов, которые выбирают 2 курса (например, осенних) первый приоритет — <code>fall_1</code> и <code>fall_2</code>, второй приоритет — <code>fall_3</code>. Такие студенты участвуют только в двух волнах отбора</i>.\n",
    "\n",
    "- Студенты специализации МОП не могут выбрать весенним курсом по выбору Машинное обучение 2. **Если студент специализации МОП выбрал Машинное обучение 2, то его приоритеты сдвигаются.** Из-за совпадений первого и второго курса по выбору двигать приоритеты не надо.\n",
    "\n",
    "- Blended-курсы не трогайте, по ним не надо распределять, на другие курсы они никак не влияют.\n",
    "\n",
    "- Заведомо известно, что в процессе распределения не возникнет ситуации, когда на одно место претендуют студенты с одинаковым перцентилем.\n",
    "\n",
    "- Постарайтесь воздержаться от использования циклов там, где это возможно. <i>Допустимо итерироваться по <b>курсам</b>, на которые проводится отбор, и по <b>волнам</b> отбора. Если вы придумаете, как обойтись и без этих циклов, то на усмотрение проверяющего могут быть добавлены бонусные баллы. <b>Дублирование кода не признается успешным избавлением от циклов</b></i>\n",
    "\n",
    "- На выходе ожидается файл res_fall.csv с результатами распределения на осенние курсы по выбору. Файл должен быть следующего формата:\n",
    "\n",
    "    * Три колонки: ID, course1, course2\n",
    "    \n",
    "    * Если студент не попал на курс, но должен был, то вместо названия курса в ячейке должна быть строка \"???\"\n",
    "    \n",
    "    * Если студент должен выбрать только один курс, то в колонке course2 для него должна стоять строка \"-\"\n",
    "    \n",
    "    * Если студент должен выбрать два курса по выбору, то порядок в колонках course1 и course2 не важен.\n",
    "    \n",
    "    * hint: для сохранения воспользуйтесь df.to_csv('solution.csv', index=None)\n",
    "    \n",
    "\n",
    "Для работы вам могут понадобиться следующие данные:\n",
    "\n",
    "- Результаты опроса (вы уже использовали этот файл в первой части задания, но на всякий случай ссылка: https://www.dropbox.com/s/f4rm8sjc3v99p0m/_end_seminar.xlsx?dl=0)\n",
    "\n",
    "- Соответствие номеров групп специализациям:\n",
    "\n",
    "    * 171, 172 - МОП; 173 - ТИ; 174 — АДИС; 175, 176 — РС; 177 — АПР\n",
    "    \n",
    "    * У студентов 18-го года номера групп соответствуют номерам до распределения по специализациям. Это означает, что по номеру группы 18* нельзя однозначно определить специализацию студента. При этом в рамках распределения важно знать информацию только о двух из них: МОП и МИ. Эти знание можно получить из колонок 'is_ml_student\n",
    "' и 'is_mi' соответственно.\n",
    "\n",
    "- Ограничения по количеству мест на курсах по выбору:\n",
    "\n",
    "    * Осенние: везде 30 мест, кроме Statistical Learning Theory (60 мест), Высокопроизводительных вычислений (60 мест), Анализа неструктурированных данных ($\\infty$ мест)\n",
    "\n",
    "    * Весенние: везде 30 мест, кроме Обучения с подкреплением (60 мест), Анализа данных в бизнесе (60 мест).\n",
    "\n",
    "\n",
    "Кстати, убедитесь, что в данных больше нет пропусков и повторных записей."
   ]
  },
  {
   "cell_type": "markdown",
   "metadata": {
    "id": "o5t55IcQhLu4"
   },
   "source": [
    "#### 0. Проверка\n",
    "\n",
    "Для начала давайте убедимся, что вы успешно выполнили задания первой части и проверим ваши данные на наличие пропусков и повторов:"
   ]
  },
  {
   "cell_type": "code",
   "execution_count": 26,
   "metadata": {
    "id": "34HWEdVdhLu4"
   },
   "outputs": [],
   "source": [
    "assert data.shape[0] == 347, 'В таблице остались повторы или потеряны данные'\n",
    "\n",
    "assert data.isna().sum().sum() == 0, 'В таблице остались пропуски'"
   ]
  },
  {
   "cell_type": "markdown",
   "metadata": {
    "id": "_ImUFyG3hLu4"
   },
   "source": [
    "Если вы не получили AssertionError, то можете продолжать."
   ]
  },
  {
   "cell_type": "markdown",
   "metadata": {
    "id": "LTGSwwvAhLu4"
   },
   "source": [
    "#### 1. [1 балл] Создайте новый признак, обозначающий, сколько осенних курсов должен выбрать студент\n",
    "\n",
    "В этом вам может помочь информация о специализации и группе стундента."
   ]
  },
  {
   "cell_type": "code",
   "execution_count": 27,
   "metadata": {
    "id": "ouxo0kHFhLu4"
   },
   "outputs": [],
   "source": [
    "df = data.copy()\n",
    "df['num_courses'] = 1\n",
    "df.loc[(df['17_group'] <= 173) & (df['17_group'] >= 171), ['num_courses']] = 2\n",
    "df.loc[(df['is_mi'] == 1) & (df['18_group'] >= 0), ['num_courses']] = 2\n",
    "\n",
    "df.loc[df['fall_1'] == df['fall_2'], 'fall_2'] = ''\n",
    "df.loc[df['fall_2'] == df['fall_3'], 'fall_3'] = ''\n",
    "df.loc[df['fall_1'] == df['fall_3'], 'fall_3'] = ''"
   ]
  },
  {
   "cell_type": "markdown",
   "metadata": {
    "id": "S47aq1sQhLu4"
   },
   "source": [
    "Проверка:"
   ]
  },
  {
   "cell_type": "code",
   "execution_count": 28,
   "metadata": {
    "id": "OlOgzDKDhLu5"
   },
   "outputs": [],
   "source": [
    "col_name = 'num_courses'\n",
    "\n",
    "assert(df[df['id'] == '2662600c2c37e11e62f6ee0b88452f22'][col_name] == 2).all()\n",
    "assert(df[df['id'] == 'd555d2805e1d93d4f023e57dc4c8f403'][col_name] == 2).all()\n",
    "assert(df[df['id'] == '8fe79f84f36e3a5d2d6745621321302c'][col_name] == 1).all()\n",
    "assert(df[df['id'] == 'e4caca755ee0bdd711e18fb8084958b5'][col_name] == 1).all()"
   ]
  },
  {
   "cell_type": "markdown",
   "metadata": {
    "id": "VtQYhwuPhLu5"
   },
   "source": [
    "#### 2. [2 балла] Распределите студентов в соответствии с первым приоритетом"
   ]
  },
  {
   "cell_type": "code",
   "execution_count": 29,
   "metadata": {},
   "outputs": [],
   "source": [
    "df['final_fall_1'] = '???'\n",
    "df['final_fall_2'] = '-'\n",
    "df['done'] = False \n",
    "df.loc[df['num_courses'] == 2, 'final_fall_2'] = '???'"
   ]
  },
  {
   "cell_type": "code",
   "execution_count": 30,
   "metadata": {
    "id": "6gWfT3vqhLu5"
   },
   "outputs": [
    {
     "data": {
      "text/html": [
       "<div>\n",
       "<style scoped>\n",
       "    .dataframe tbody tr th:only-of-type {\n",
       "        vertical-align: middle;\n",
       "    }\n",
       "\n",
       "    .dataframe tbody tr th {\n",
       "        vertical-align: top;\n",
       "    }\n",
       "\n",
       "    .dataframe thead th {\n",
       "        text-align: right;\n",
       "    }\n",
       "</style>\n",
       "<table border=\"1\" class=\"dataframe\">\n",
       "  <thead>\n",
       "    <tr style=\"text-align: right;\">\n",
       "      <th></th>\n",
       "      <th>course</th>\n",
       "      <th>num</th>\n",
       "    </tr>\n",
       "  </thead>\n",
       "  <tbody>\n",
       "    <tr>\n",
       "      <th>0</th>\n",
       "      <td>Байесовские методы машинного обучения</td>\n",
       "      <td>6</td>\n",
       "    </tr>\n",
       "    <tr>\n",
       "      <th>1</th>\n",
       "      <td>Глубинное обучение в обработке звука</td>\n",
       "      <td>7</td>\n",
       "    </tr>\n",
       "    <tr>\n",
       "      <th>2</th>\n",
       "      <td>Анализ неструктурированных данных</td>\n",
       "      <td>252</td>\n",
       "    </tr>\n",
       "    <tr>\n",
       "      <th>3</th>\n",
       "      <td>Матричные вычисления</td>\n",
       "      <td>15</td>\n",
       "    </tr>\n",
       "    <tr>\n",
       "      <th>4</th>\n",
       "      <td>Принятие решений в условиях риска и неопределё...</td>\n",
       "      <td>22</td>\n",
       "    </tr>\n",
       "    <tr>\n",
       "      <th>5</th>\n",
       "      <td>Теория баз данных</td>\n",
       "      <td>16</td>\n",
       "    </tr>\n",
       "    <tr>\n",
       "      <th>6</th>\n",
       "      <td>Statistical Learning Theory</td>\n",
       "      <td>27</td>\n",
       "    </tr>\n",
       "    <tr>\n",
       "      <th>7</th>\n",
       "      <td>Сбор и обработка данных с помощью краудсорсинга</td>\n",
       "      <td>0</td>\n",
       "    </tr>\n",
       "    <tr>\n",
       "      <th>8</th>\n",
       "      <td>Язык SQL</td>\n",
       "      <td>1</td>\n",
       "    </tr>\n",
       "    <tr>\n",
       "      <th>9</th>\n",
       "      <td>Моделирование временных рядов</td>\n",
       "      <td>0</td>\n",
       "    </tr>\n",
       "    <tr>\n",
       "      <th>10</th>\n",
       "      <td>Безопасность компьютерных систем</td>\n",
       "      <td>0</td>\n",
       "    </tr>\n",
       "    <tr>\n",
       "      <th>11</th>\n",
       "      <td>Высокопроизводительные вычисления</td>\n",
       "      <td>16</td>\n",
       "    </tr>\n",
       "  </tbody>\n",
       "</table>\n",
       "</div>"
      ],
      "text/plain": [
       "                                               course  num\n",
       "0               Байесовские методы машинного обучения    6\n",
       "1                Глубинное обучение в обработке звука    7\n",
       "2                   Анализ неструктурированных данных  252\n",
       "3                                Матричные вычисления   15\n",
       "4   Принятие решений в условиях риска и неопределё...   22\n",
       "5                                   Теория баз данных   16\n",
       "6                         Statistical Learning Theory   27\n",
       "7     Сбор и обработка данных с помощью краудсорсинга    0\n",
       "8                                            Язык SQL    1\n",
       "9                       Моделирование временных рядов    0\n",
       "10                   Безопасность компьютерных систем    0\n",
       "11                  Высокопроизводительные вычисления   16"
      ]
     },
     "metadata": {},
     "output_type": "display_data"
    }
   ],
   "source": [
    "\n",
    "df['is_first_place'] = None\n",
    "df['is_last_place'] = None\n",
    "\n",
    "\n",
    "df_test = df.copy()\n",
    "\n",
    "for _, row in courses_fall.iterrows():\n",
    "    course = row['course']\n",
    "    num = row['num']\n",
    "    df_course = df_test[((df_test['num_courses'] == 1) & (df_test['fall_1'] == course)) |\n",
    "                ((df_test['num_courses'] == 2) & ((df_test['fall_1'] == course) | (df_test['fall_2'] == course)))]\n",
    "    ids = df_course.sort_values(by='percentile', ascending=True, ignore_index=True).loc[0:num - 1]['id'].values\n",
    "    df_test.loc[(df_test['id'].isin(ids)) & (df_test['final_fall_1'] != '???'), 'final_fall_2'] = course\n",
    "    df_test.loc[(df_test['id'].isin(ids)) & (df_test['final_fall_1'] == '???'), 'final_fall_1'] = course\n",
    "    df_test.loc[df_test['id'] == ids[0], 'is_first_place'] = True\n",
    "    df_test.loc[df_test['id'] == ids[ids.size - 1], 'is_last_place'] = True\n",
    "    courses_fall.loc[courses_fall['course'] == course, 'num'] -= ids.size\n",
    "\n",
    "display(courses_fall)\n",
    "df_test.loc[(df_test['num_courses'] == 1) & (df_test['final_fall_1'] != '???'), 'done'] = True\n",
    "df_test.loc[(df_test['num_courses'] == 2) & (df_test['final_fall_1'] != '???') & (df_test['final_fall_2'] != '???'), 'done'] = True\n",
    "\n",
    "for _, row in courses_fall.iterrows():\n",
    "    course = row['course']\n",
    "    num = row['num']\n",
    "    df_course = df_test[(((df_test['num_courses'] == 1) & (df_test['fall_2'] == course)) |\n",
    "                        ((df_test['num_courses'] == 2) & (df_test['fall_3'] == course))) & (df_test['done'] == False)]\n",
    "    ids = df_course.sort_values(by='percentile', ascending=True, ignore_index=True).loc[0:num - 1]['id'].values\n",
    "    df_test.loc[(df_test['id'].isin(ids)) & (df_test['final_fall_1'] != '???'), 'final_fall_2'] = course\n",
    "    df_test.loc[(df_test['id'].isin(ids)) & (df_test['final_fall_1'] == '???'), 'final_fall_1'] = course\n",
    "    courses_fall.loc[courses_fall['course'] == course, 'num'] -= ids.size\n",
    "\n",
    "df_test.loc[(df_test['num_courses'] == 1) & (df_test['final_fall_1'] != '???'), 'done'] = True\n",
    "df_test.loc[(df_test['num_courses'] == 2) & (df_test['final_fall_1'] != '???') & (df_test['final_fall_2'] != '???'), 'done'] = True\n",
    "\n",
    "for _, row in courses_fall.iterrows():\n",
    "    course = row['course']\n",
    "    num = row['num']\n",
    "    df_course = df_test[((df_test['num_courses'] == 1) & (df_test['fall_3'] == course) & (df_test['done'] == False))]\n",
    "    ids = df_course.sort_values(by='percentile', ascending=True, ignore_index=True).loc[0:num - 1]['id'].values\n",
    "    df_test.loc[(df_test['id'].isin(ids)) & (df_test['final_fall_1'] == '???'), 'final_fall_1'] = course\n",
    "\n",
    "data2 = pd.read_csv('data.csv')"
   ]
  },
  {
   "cell_type": "markdown",
   "metadata": {
    "id": "vc5zXP5hhLu5"
   },
   "source": [
    "Здесь для проверки приведена таблица, в которой есть 2 дополнительные колонки:\n",
    "    \n",
    "    1) is_first_place - является ли студент лучшим по перцентили хотя бы на одном из курсов, куда он был зачислен \n",
    "    (True / NaN)\n",
    "    \n",
    "    2) is_last_place  - является ли студент худшим по перцентили хотя бы на одном из курсов, куда он был зачислен (True / NaN)"
   ]
  },
  {
   "cell_type": "code",
   "execution_count": 31,
   "metadata": {
    "id": "uZTkGEq5hLu5"
   },
   "outputs": [],
   "source": [
    "!wget  -O '2_task_check.csv' -q 'https://www.dropbox.com/s/v8o2zzq3iz5gc9w/_2_task_check.csv?dl=0'\n",
    "check_df = pd.read_csv('2_task_check.csv')"
   ]
  },
  {
   "cell_type": "code",
   "execution_count": 32,
   "metadata": {},
   "outputs": [
    {
     "data": {
      "text/html": [
       "<div>\n",
       "<style scoped>\n",
       "    .dataframe tbody tr th:only-of-type {\n",
       "        vertical-align: middle;\n",
       "    }\n",
       "\n",
       "    .dataframe tbody tr th {\n",
       "        vertical-align: top;\n",
       "    }\n",
       "\n",
       "    .dataframe thead th {\n",
       "        text-align: right;\n",
       "    }\n",
       "</style>\n",
       "<table border=\"1\" class=\"dataframe\">\n",
       "  <thead>\n",
       "    <tr style=\"text-align: right;\">\n",
       "      <th></th>\n",
       "      <th>course</th>\n",
       "      <th>num</th>\n",
       "    </tr>\n",
       "  </thead>\n",
       "  <tbody>\n",
       "    <tr>\n",
       "      <th>0</th>\n",
       "      <td>Байесовские методы машинного обучения</td>\n",
       "      <td>5</td>\n",
       "    </tr>\n",
       "    <tr>\n",
       "      <th>1</th>\n",
       "      <td>Глубинное обучение в обработке звука</td>\n",
       "      <td>0</td>\n",
       "    </tr>\n",
       "    <tr>\n",
       "      <th>2</th>\n",
       "      <td>Анализ неструктурированных данных</td>\n",
       "      <td>247</td>\n",
       "    </tr>\n",
       "    <tr>\n",
       "      <th>3</th>\n",
       "      <td>Матричные вычисления</td>\n",
       "      <td>6</td>\n",
       "    </tr>\n",
       "    <tr>\n",
       "      <th>4</th>\n",
       "      <td>Принятие решений в условиях риска и неопределё...</td>\n",
       "      <td>21</td>\n",
       "    </tr>\n",
       "    <tr>\n",
       "      <th>5</th>\n",
       "      <td>Теория баз данных</td>\n",
       "      <td>12</td>\n",
       "    </tr>\n",
       "    <tr>\n",
       "      <th>6</th>\n",
       "      <td>Statistical Learning Theory</td>\n",
       "      <td>19</td>\n",
       "    </tr>\n",
       "    <tr>\n",
       "      <th>7</th>\n",
       "      <td>Сбор и обработка данных с помощью краудсорсинга</td>\n",
       "      <td>0</td>\n",
       "    </tr>\n",
       "    <tr>\n",
       "      <th>8</th>\n",
       "      <td>Язык SQL</td>\n",
       "      <td>0</td>\n",
       "    </tr>\n",
       "    <tr>\n",
       "      <th>9</th>\n",
       "      <td>Моделирование временных рядов</td>\n",
       "      <td>0</td>\n",
       "    </tr>\n",
       "    <tr>\n",
       "      <th>10</th>\n",
       "      <td>Безопасность компьютерных систем</td>\n",
       "      <td>0</td>\n",
       "    </tr>\n",
       "    <tr>\n",
       "      <th>11</th>\n",
       "      <td>Высокопроизводительные вычисления</td>\n",
       "      <td>0</td>\n",
       "    </tr>\n",
       "  </tbody>\n",
       "</table>\n",
       "</div>"
      ],
      "text/plain": [
       "                                               course  num\n",
       "0               Байесовские методы машинного обучения    5\n",
       "1                Глубинное обучение в обработке звука    0\n",
       "2                   Анализ неструктурированных данных  247\n",
       "3                                Матричные вычисления    6\n",
       "4   Принятие решений в условиях риска и неопределё...   21\n",
       "5                                   Теория баз данных   12\n",
       "6                         Statistical Learning Theory   19\n",
       "7     Сбор и обработка данных с помощью краудсорсинга    0\n",
       "8                                            Язык SQL    0\n",
       "9                       Моделирование временных рядов    0\n",
       "10                   Безопасность компьютерных систем    0\n",
       "11                  Высокопроизводительные вычисления    0"
      ]
     },
     "execution_count": 32,
     "metadata": {},
     "output_type": "execute_result"
    }
   ],
   "source": [
    "courses_fall"
   ]
  },
  {
   "cell_type": "markdown",
   "metadata": {
    "id": "E_fbyB9qhLu5"
   },
   "source": [
    "После распределения студентов в соответствии с первым приоритетом добавьте в свой датафрейм аналогичные признаки и запустите проверку:"
   ]
  },
  {
   "cell_type": "code",
   "execution_count": 33,
   "metadata": {
    "id": "GOAzQeYehLu6"
   },
   "outputs": [
    {
     "ename": "ValueError",
     "evalue": "Can only compare identically-labeled DataFrame objects",
     "output_type": "error",
     "traceback": [
      "\u001b[0;31m---------------------------------------------------------------------------\u001b[0m",
      "\u001b[0;31mValueError\u001b[0m                                Traceback (most recent call last)",
      "Input \u001b[0;32mIn [33]\u001b[0m, in \u001b[0;36m<cell line: 5>\u001b[0;34m()\u001b[0m\n\u001b[1;32m      1\u001b[0m fir_col_name \u001b[38;5;241m=\u001b[39m \u001b[38;5;124m'\u001b[39m\u001b[38;5;124mis_first_place\u001b[39m\u001b[38;5;124m'\u001b[39m      \u001b[38;5;66;03m# insert name of your new column with is_first_place as str\u001b[39;00m\n\u001b[1;32m      2\u001b[0m last_col_name \u001b[38;5;241m=\u001b[39m \u001b[38;5;124m'\u001b[39m\u001b[38;5;124mis_last_place\u001b[39m\u001b[38;5;124m'\u001b[39m     \u001b[38;5;66;03m# insert name of your new column with is_last_place as str\u001b[39;00m\n\u001b[0;32m----> 5\u001b[0m \u001b[38;5;28;01massert\u001b[39;00m((\u001b[43mdata2\u001b[49m\u001b[43m[\u001b[49m\u001b[43mdata2\u001b[49m\u001b[43m[\u001b[49m\u001b[43mfir_col_name\u001b[49m\u001b[43m]\u001b[49m\u001b[38;5;241;43m.\u001b[39;49m\u001b[43misna\u001b[49m\u001b[43m(\u001b[49m\u001b[43m)\u001b[49m\u001b[43m \u001b[49m\u001b[38;5;241;43m==\u001b[39;49m\u001b[43m \u001b[49m\u001b[38;5;28;43;01mFalse\u001b[39;49;00m\u001b[43m]\u001b[49m\u001b[43m[\u001b[49m\u001b[43m[\u001b[49m\u001b[38;5;124;43m'\u001b[39;49m\u001b[38;5;124;43mid\u001b[39;49m\u001b[38;5;124;43m'\u001b[39;49m\u001b[43m]\u001b[49m\u001b[43m]\u001b[49m\u001b[38;5;241;43m.\u001b[39;49m\u001b[43msort_values\u001b[49m\u001b[43m(\u001b[49m\u001b[38;5;124;43m'\u001b[39;49m\u001b[38;5;124;43mid\u001b[39;49m\u001b[38;5;124;43m'\u001b[39;49m\u001b[43m)\u001b[49m\u001b[38;5;241;43m.\u001b[39;49m\u001b[43mreset_index\u001b[49m\u001b[43m(\u001b[49m\u001b[43mdrop\u001b[49m\u001b[38;5;241;43m=\u001b[39;49m\u001b[38;5;28;43;01mTrue\u001b[39;49;00m\u001b[43m)\u001b[49m\n\u001b[1;32m      6\u001b[0m \u001b[43m        \u001b[49m\u001b[38;5;241;43m==\u001b[39;49m\n\u001b[1;32m      7\u001b[0m \u001b[43m        \u001b[49m\u001b[43mcheck_df\u001b[49m\u001b[43m[\u001b[49m\u001b[43mcheck_df\u001b[49m\u001b[43m[\u001b[49m\u001b[38;5;124;43m'\u001b[39;49m\u001b[38;5;124;43mis_first_place\u001b[39;49m\u001b[38;5;124;43m'\u001b[39;49m\u001b[43m]\u001b[49m\u001b[38;5;241;43m.\u001b[39;49m\u001b[43misna\u001b[49m\u001b[43m(\u001b[49m\u001b[43m)\u001b[49m\u001b[43m \u001b[49m\u001b[38;5;241;43m==\u001b[39;49m\u001b[43m \u001b[49m\u001b[38;5;28;43;01mFalse\u001b[39;49;00m\u001b[43m]\u001b[49m\u001b[43m[\u001b[49m\u001b[43m[\u001b[49m\u001b[38;5;124;43m'\u001b[39;49m\u001b[38;5;124;43mid\u001b[39;49m\u001b[38;5;124;43m'\u001b[39;49m\u001b[43m]\u001b[49m\u001b[43m]\u001b[49m\u001b[38;5;241;43m.\u001b[39;49m\u001b[43msort_values\u001b[49m\u001b[43m(\u001b[49m\u001b[38;5;124;43m'\u001b[39;49m\u001b[38;5;124;43mid\u001b[39;49m\u001b[38;5;124;43m'\u001b[39;49m\u001b[43m)\u001b[49m\u001b[38;5;241;43m.\u001b[39;49m\u001b[43mreset_index\u001b[49m\u001b[43m(\u001b[49m\u001b[43mdrop\u001b[49m\u001b[38;5;241;43m=\u001b[39;49m\u001b[38;5;28;43;01mTrue\u001b[39;49;00m\u001b[43m)\u001b[49m\n\u001b[1;32m      8\u001b[0m        )\u001b[38;5;241m.\u001b[39mid\u001b[38;5;241m.\u001b[39mvalues)\u001b[38;5;241m.\u001b[39mall()\n\u001b[1;32m     11\u001b[0m \u001b[38;5;28;01massert\u001b[39;00m((data2[data2[last_col_name]\u001b[38;5;241m.\u001b[39misna() \u001b[38;5;241m==\u001b[39m \u001b[38;5;28;01mFalse\u001b[39;00m][[\u001b[38;5;124m'\u001b[39m\u001b[38;5;124mid\u001b[39m\u001b[38;5;124m'\u001b[39m]]\u001b[38;5;241m.\u001b[39msort_values(\u001b[38;5;124m'\u001b[39m\u001b[38;5;124mid\u001b[39m\u001b[38;5;124m'\u001b[39m)\u001b[38;5;241m.\u001b[39mreset_index(drop\u001b[38;5;241m=\u001b[39m\u001b[38;5;28;01mTrue\u001b[39;00m)\n\u001b[1;32m     12\u001b[0m        \u001b[38;5;241m==\u001b[39m \n\u001b[1;32m     13\u001b[0m        check_df[check_df[\u001b[38;5;124m'\u001b[39m\u001b[38;5;124mis_last_place\u001b[39m\u001b[38;5;124m'\u001b[39m]\u001b[38;5;241m.\u001b[39misna() \u001b[38;5;241m==\u001b[39m \u001b[38;5;28;01mFalse\u001b[39;00m][[\u001b[38;5;124m'\u001b[39m\u001b[38;5;124mid\u001b[39m\u001b[38;5;124m'\u001b[39m]]\u001b[38;5;241m.\u001b[39msort_values(\u001b[38;5;124m'\u001b[39m\u001b[38;5;124mid\u001b[39m\u001b[38;5;124m'\u001b[39m)\u001b[38;5;241m.\u001b[39mreset_index(drop\u001b[38;5;241m=\u001b[39m\u001b[38;5;28;01mTrue\u001b[39;00m)\n\u001b[1;32m     14\u001b[0m       )\u001b[38;5;241m.\u001b[39mid\u001b[38;5;241m.\u001b[39mvalues)\u001b[38;5;241m.\u001b[39mall()\n",
      "File \u001b[0;32m~/opt/anaconda3/lib/python3.9/site-packages/pandas/core/ops/common.py:70\u001b[0m, in \u001b[0;36m_unpack_zerodim_and_defer.<locals>.new_method\u001b[0;34m(self, other)\u001b[0m\n\u001b[1;32m     66\u001b[0m             \u001b[38;5;28;01mreturn\u001b[39;00m \u001b[38;5;28mNotImplemented\u001b[39m\n\u001b[1;32m     68\u001b[0m other \u001b[38;5;241m=\u001b[39m item_from_zerodim(other)\n\u001b[0;32m---> 70\u001b[0m \u001b[38;5;28;01mreturn\u001b[39;00m \u001b[43mmethod\u001b[49m\u001b[43m(\u001b[49m\u001b[38;5;28;43mself\u001b[39;49m\u001b[43m,\u001b[49m\u001b[43m \u001b[49m\u001b[43mother\u001b[49m\u001b[43m)\u001b[49m\n",
      "File \u001b[0;32m~/opt/anaconda3/lib/python3.9/site-packages/pandas/core/arraylike.py:40\u001b[0m, in \u001b[0;36mOpsMixin.__eq__\u001b[0;34m(self, other)\u001b[0m\n\u001b[1;32m     38\u001b[0m \u001b[38;5;129m@unpack_zerodim_and_defer\u001b[39m(\u001b[38;5;124m\"\u001b[39m\u001b[38;5;124m__eq__\u001b[39m\u001b[38;5;124m\"\u001b[39m)\n\u001b[1;32m     39\u001b[0m \u001b[38;5;28;01mdef\u001b[39;00m \u001b[38;5;21m__eq__\u001b[39m(\u001b[38;5;28mself\u001b[39m, other):\n\u001b[0;32m---> 40\u001b[0m     \u001b[38;5;28;01mreturn\u001b[39;00m \u001b[38;5;28;43mself\u001b[39;49m\u001b[38;5;241;43m.\u001b[39;49m\u001b[43m_cmp_method\u001b[49m\u001b[43m(\u001b[49m\u001b[43mother\u001b[49m\u001b[43m,\u001b[49m\u001b[43m \u001b[49m\u001b[43moperator\u001b[49m\u001b[38;5;241;43m.\u001b[39;49m\u001b[43meq\u001b[49m\u001b[43m)\u001b[49m\n",
      "File \u001b[0;32m~/opt/anaconda3/lib/python3.9/site-packages/pandas/core/frame.py:6931\u001b[0m, in \u001b[0;36mDataFrame._cmp_method\u001b[0;34m(self, other, op)\u001b[0m\n\u001b[1;32m   6928\u001b[0m \u001b[38;5;28;01mdef\u001b[39;00m \u001b[38;5;21m_cmp_method\u001b[39m(\u001b[38;5;28mself\u001b[39m, other, op):\n\u001b[1;32m   6929\u001b[0m     axis \u001b[38;5;241m=\u001b[39m \u001b[38;5;241m1\u001b[39m  \u001b[38;5;66;03m# only relevant for Series other case\u001b[39;00m\n\u001b[0;32m-> 6931\u001b[0m     \u001b[38;5;28mself\u001b[39m, other \u001b[38;5;241m=\u001b[39m \u001b[43mops\u001b[49m\u001b[38;5;241;43m.\u001b[39;49m\u001b[43malign_method_FRAME\u001b[49m\u001b[43m(\u001b[49m\u001b[38;5;28;43mself\u001b[39;49m\u001b[43m,\u001b[49m\u001b[43m \u001b[49m\u001b[43mother\u001b[49m\u001b[43m,\u001b[49m\u001b[43m \u001b[49m\u001b[43maxis\u001b[49m\u001b[43m,\u001b[49m\u001b[43m \u001b[49m\u001b[43mflex\u001b[49m\u001b[38;5;241;43m=\u001b[39;49m\u001b[38;5;28;43;01mFalse\u001b[39;49;00m\u001b[43m,\u001b[49m\u001b[43m \u001b[49m\u001b[43mlevel\u001b[49m\u001b[38;5;241;43m=\u001b[39;49m\u001b[38;5;28;43;01mNone\u001b[39;49;00m\u001b[43m)\u001b[49m\n\u001b[1;32m   6933\u001b[0m     \u001b[38;5;66;03m# See GH#4537 for discussion of scalar op behavior\u001b[39;00m\n\u001b[1;32m   6934\u001b[0m     new_data \u001b[38;5;241m=\u001b[39m \u001b[38;5;28mself\u001b[39m\u001b[38;5;241m.\u001b[39m_dispatch_frame_op(other, op, axis\u001b[38;5;241m=\u001b[39maxis)\n",
      "File \u001b[0;32m~/opt/anaconda3/lib/python3.9/site-packages/pandas/core/ops/__init__.py:289\u001b[0m, in \u001b[0;36malign_method_FRAME\u001b[0;34m(left, right, axis, flex, level)\u001b[0m\n\u001b[1;32m    287\u001b[0m             left, right \u001b[38;5;241m=\u001b[39m left\u001b[38;5;241m.\u001b[39malign(right, join\u001b[38;5;241m=\u001b[39m\u001b[38;5;124m\"\u001b[39m\u001b[38;5;124mouter\u001b[39m\u001b[38;5;124m\"\u001b[39m, level\u001b[38;5;241m=\u001b[39mlevel, copy\u001b[38;5;241m=\u001b[39m\u001b[38;5;28;01mFalse\u001b[39;00m)\n\u001b[1;32m    288\u001b[0m         \u001b[38;5;28;01melse\u001b[39;00m:\n\u001b[0;32m--> 289\u001b[0m             \u001b[38;5;28;01mraise\u001b[39;00m \u001b[38;5;167;01mValueError\u001b[39;00m(\n\u001b[1;32m    290\u001b[0m                 \u001b[38;5;124m\"\u001b[39m\u001b[38;5;124mCan only compare identically-labeled DataFrame objects\u001b[39m\u001b[38;5;124m\"\u001b[39m\n\u001b[1;32m    291\u001b[0m             )\n\u001b[1;32m    292\u001b[0m \u001b[38;5;28;01melif\u001b[39;00m \u001b[38;5;28misinstance\u001b[39m(right, ABCSeries):\n\u001b[1;32m    293\u001b[0m     \u001b[38;5;66;03m# axis=1 is default for DataFrame-with-Series op\u001b[39;00m\n\u001b[1;32m    294\u001b[0m     axis \u001b[38;5;241m=\u001b[39m left\u001b[38;5;241m.\u001b[39m_get_axis_number(axis) \u001b[38;5;28;01mif\u001b[39;00m axis \u001b[38;5;129;01mis\u001b[39;00m \u001b[38;5;129;01mnot\u001b[39;00m \u001b[38;5;28;01mNone\u001b[39;00m \u001b[38;5;28;01melse\u001b[39;00m \u001b[38;5;241m1\u001b[39m\n",
      "\u001b[0;31mValueError\u001b[0m: Can only compare identically-labeled DataFrame objects"
     ]
    }
   ],
   "source": [
    "fir_col_name = 'is_first_place'      # insert name of your new column with is_first_place as str\n",
    "last_col_name = 'is_last_place'     # insert name of your new column with is_last_place as str\n",
    "\n",
    "\n",
    "assert((data2[data2[fir_col_name].isna() == False][['id']].sort_values('id').reset_index(drop=True)\n",
    "        ==\n",
    "        check_df[check_df['is_first_place'].isna() == False][['id']].sort_values('id').reset_index(drop=True)\n",
    "       ).id.values).all()\n",
    "\n",
    "\n",
    "assert((data2[data2[last_col_name].isna() == False][['id']].sort_values('id').reset_index(drop=True)\n",
    "       == \n",
    "       check_df[check_df['is_last_place'].isna() == False][['id']].sort_values('id').reset_index(drop=True)\n",
    "      ).id.values).all()"
   ]
  },
  {
   "cell_type": "markdown",
   "metadata": {
    "id": "RO6DwNNFhLu6"
   },
   "source": [
    "#### 3. [3 балла] Проведите все три волны отбора студентов на курсы по выбору"
   ]
  },
  {
   "cell_type": "code",
   "execution_count": null,
   "metadata": {
    "id": "jn2OOrLjhLu6"
   },
   "outputs": [],
   "source": [
    "res_fall = df_test[['id','final_fall_1','final_fall_2']].copy()\n",
    "res_fall.rename(columns = {'id': 'ID', 'final_fall_1': 'course1', 'final_fall_2': 'course2'}, inplace=True)\n",
    "res_fall.to_csv('res_fall.csv', index=None)"
   ]
  },
  {
   "cell_type": "markdown",
   "metadata": {
    "id": "1xQjV9BuhLu6"
   },
   "source": [
    "**Отправьте свой файл res_fall.csv в контест (https://contest.yandex.ru/contest/40211/problems/A/) и прикрепите/укажите ниже ваш никнейм и ссылку на успешную посылку.**\n",
    "\n",
    "**Посылка:** https://contest.yandex.ru/contest/40211/run-report/70710216/\n",
    "\n",
    "**ID:** 70710216\n",
    "\n",
    "**Никнейм:** aaprokhorov@edu.hse.ru"
   ]
  },
  {
   "cell_type": "markdown",
   "metadata": {
    "id": "QRTbPrgbhLu6"
   },
   "source": [
    "*Дисклеймер:*\n",
    "\n",
    "Успешная посылка в контесте является **обязательным** условием получения полного балла за этот (и следующий) пункт. Если добиться успешной посылки не удастся, баллы будут выставляться на усмотрение проверяюшего. \n",
    "\n",
    "При этом ОК в контесте не гарантирует полный балл. Оценка всё равно может быть снижена в случае обнаружения неэффективностей или ошибок в коде. Если вы сдадите в AnyTask очевидно неработающий код или ноутбук без кода, но при этом в контест будет сдан корректный файл, то это будет расцениваться как плагиат."
   ]
  },
  {
   "cell_type": "markdown",
   "metadata": {
    "id": "1IkQa_gdhLu6"
   },
   "source": [
    "На всякий случай просим вас сдать вместе с ноутбуком файл res_fall.csv в anytask"
   ]
  },
  {
   "cell_type": "markdown",
   "metadata": {
    "id": "k8d711qGhLu7"
   },
   "source": [
    "**Дополнительное задание. [2 бонусных балла] Распределите таким же образом студентов еще и на весенние курсы по выбору.**\n",
    "\n",
    "Если ваш код был хорошо структурирован, то это не составит проблем. \n",
    "\n",
    "Если вы выполнили это задание, сдайте среди прочего файл res_spring.csv в таком же формате, как и res_fall.csv."
   ]
  },
  {
   "cell_type": "code",
   "execution_count": null,
   "metadata": {},
   "outputs": [],
   "source": [
    "df[(df['18_group'] > 0) & (df['is_ml_student'] == 1)].to_csv('df_spring1.csv', index=None)\n",
    "df.loc[(df['18_group'] > 0) & (df['is_ml_student'] == 1) & (df['spring_3'] == 'Машинное обучение 2'), 'spring_3'] = '-'\n",
    "\n",
    "df.loc[(df['18_group'] > 0) & (df['is_ml_student'] == 1) & \n",
    "       (df['spring_2'] == 'Машинное обучение 2'), 'spring_2'] = df.loc[(df['18_group'] > 0) & (df['is_ml_student'] == 1) & \n",
    "       (df['spring_2'] == 'Машинное обучение 2'), 'spring_3']\n",
    "df.loc[(df['18_group'] > 0) & (df['is_ml_student'] == 1) & \n",
    "       (df['spring_1'] == 'Машинное обучение 2'), 'spring_1'] = df.loc[(df['18_group'] > 0) & (df['is_ml_student'] == 1) & \n",
    "       (df['spring_1'] == 'Машинное обучение 2'), 'spring_2']"
   ]
  },
  {
   "cell_type": "code",
   "execution_count": null,
   "metadata": {},
   "outputs": [],
   "source": [
    "assert df[(df['18_group'] > 0) & (df['is_ml_student'] == 1) & (df['spring_1'] == 'Машинное обучение 2')].shape[0] == 0\n",
    "assert df[(df['18_group'] > 0) & (df['is_ml_student'] == 1) & (df['spring_2'] == 'Машинное обучение 2')].shape[0] == 0\n",
    "assert df[(df['18_group'] > 0) & (df['is_ml_student'] == 1) & (df['spring_3'] == 'Машинное обучение 2')].shape[0] == 0\n",
    "assert df[(df['17_group'] >= 171) & (df['17_group'] <= 172) & (df['spring_1'] == 'Машинное обучение 2')].shape[0] == 0\n",
    "assert df[(df['17_group'] >= 171) & (df['17_group'] <= 172) & (df['spring_2'] == 'Машинное обучение 2')].shape[0] == 0\n",
    "assert df[(df['17_group'] >= 171) & (df['17_group'] <= 172) & (df['spring_3'] == 'Машинное обучение 2')].shape[0] == 0"
   ]
  },
  {
   "cell_type": "code",
   "execution_count": null,
   "metadata": {},
   "outputs": [],
   "source": [
    "df.to_csv('df_spring2.csv', index=None)"
   ]
  },
  {
   "cell_type": "code",
   "execution_count": null,
   "metadata": {
    "id": "hwmusOGThLu7"
   },
   "outputs": [],
   "source": [
    "df['final_spring_1'] = '???'\n",
    "df['final_spring_2'] = '-'\n",
    "df['done'] = False\n",
    "df.loc[df['num_courses'] == 2, 'final_spring_2'] = '???'\n",
    "df.loc[df['spring_1'] == df['spring_2'], 'spring_2'] = ''\n",
    "df.loc[df['spring_2'] == df['spring_3'], 'spring_3'] = ''\n",
    "df.loc[df['spring_1'] == df['spring_3'], 'spring_3'] = ''\n",
    "\n",
    "courses_spring['num'] = 30\n",
    "courses_spring.loc[(courses_spring['course'] == 'Обучение с подкреплением') |\n",
    "                   (courses_spring['course'] == 'Анализ данных в бизнесе'), 'num'] = 60\n",
    "\n",
    "df_test = df.copy()\n",
    "display(df_test)\n",
    "\n",
    "\n",
    "\n",
    "for _, row in courses_spring.iterrows():\n",
    "    course = row['course']\n",
    "    num = row['num']\n",
    "    df_course = df_test[((df_test['num_courses'] == 1) & (df_test['spring_1'] == course)) |\n",
    "                ((df_test['num_courses'] == 2) & ((df_test['spring_1'] == course) | (df_test['spring_2'] == course)))]\n",
    "    ids = df_course.sort_values(by='percentile', ascending=True, ignore_index=True).loc[0:num - 1]['id'].values\n",
    "    df_test.loc[(df_test['id'].isin(ids)) & (df_test['final_spring_1'] != '???'), 'final_spring_2'] = course\n",
    "    df_test.loc[(df_test['id'].isin(ids)) & (df_test['final_spring_1'] == '???'), 'final_spring_1'] = course\n",
    "    courses_spring.loc[courses_spring['course'] == course, 'num'] -= ids.size\n",
    "\n",
    "display(courses_spring)\n",
    "df_test.loc[(df_test['num_courses'] == 1) & (df_test['final_spring_1'] != '???'), 'done'] = True\n",
    "df_test.loc[(df_test['num_courses'] == 2) & (df_test['final_spring_1'] != '???') & (df_test['final_spring_2'] != '???'), 'done'] = True\n",
    "\n",
    "for _, row in courses_spring.iterrows():\n",
    "    course = row['course']\n",
    "    num = row['num']\n",
    "    df_course = df_test[(((df_test['num_courses'] == 1) & (df_test['spring_2'] == course)) |\n",
    "                        ((df_test['num_courses'] == 2) & (df_test['spring_3'] == course))) & (df_test['done'] == False)]\n",
    "    ids = df_course.sort_values(by='percentile', ascending=True, ignore_index=True).loc[0:num - 1]['id'].values\n",
    "    df_test.loc[(df_test['id'].isin(ids)) & (df_test['final_spring_1'] != '???'), 'final_spring_2'] = course\n",
    "    df_test.loc[(df_test['id'].isin(ids)) & (df_test['final_spring_1'] == '???'), 'final_spring_1'] = course\n",
    "    courses_spring.loc[courses_spring['course'] == course, 'num'] -= ids.size\n",
    "\n",
    "df_test.loc[(df_test['num_courses'] == 1) & (df_test['final_spring_1'] != '???'), 'done'] = True\n",
    "df_test.loc[(df_test['num_courses'] == 2) & (df_test['final_spring_1'] != '???') & (df_test['final_spring_2'] != '???'), 'done'] = True\n",
    "display(courses_spring)\n",
    "\n",
    "\n",
    "for _, row in courses_spring.iterrows():\n",
    "    course = row['course']\n",
    "    num = row['num']\n",
    "    df_course = df_test[((df_test['num_courses'] == 1) & (df_test['spring_3'] == course) & (df_test['done'] == False))]\n",
    "    ids = df_course.sort_values(by='percentile', ascending=True, ignore_index=True).loc[0:num - 1]['id'].values\n",
    "    df_test.loc[(df_test['id'].isin(ids)) & (df_test['final_spring_1'] == '???'), 'final_spring_1'] = course\n",
    "\n",
    "df_test.to_csv('df_test_spring.csv', index=None)\n",
    "display(courses_spring)\n",
    "\n"
   ]
  },
  {
   "cell_type": "code",
   "execution_count": null,
   "metadata": {},
   "outputs": [],
   "source": [
    "res_spring = df_test[['id','final_spring_1','final_spring_2']].copy()\n",
    "res_spring.rename(columns = {'id': 'ID', 'final_spring_1': 'course1', 'final_spring_2': 'course2'}, inplace=True)\n",
    "res_spring.to_csv('res_spring.csv', index=None)"
   ]
  },
  {
   "cell_type": "markdown",
   "metadata": {
    "id": "It7QQZLYhLu7"
   },
   "source": [
    "**Отправьте свой файл res_spring.csv в контест (https://contest.yandex.ru/contest/40211/problems/B/) и прикрепите/укажите ниже ваш никнейм и ссылку на успешную посылку.**\n",
    "\n",
    "**Результат 326/347**\n",
    "\n",
    "**Посылка:** https://contest.yandex.ru/contest/40211/run-report/70739564/\n",
    "\n",
    "**ID:** 70739564\n",
    "\n",
    "**Никнейм:** aaprokhorov@edu.hse.ru"
   ]
  },
  {
   "cell_type": "markdown",
   "metadata": {
    "id": "1YcouVTihLu7"
   },
   "source": [
    "На всякий случай просим вас сдать вместе с ноутбуком файл res_spring.csv в anytask"
   ]
  },
  {
   "cell_type": "markdown",
   "metadata": {
    "id": "uY_OY6inhLu7"
   },
   "source": [
    "Вставьте картинку, описывающую ваш опыт выполнения этого задания:"
   ]
  },
  {
   "cell_type": "code",
   "execution_count": null,
   "metadata": {
    "id": "R9_7CnSFhLu7"
   },
   "outputs": [],
   "source": []
  },
  {
   "cell_type": "code",
   "execution_count": null,
   "metadata": {},
   "outputs": [],
   "source": []
  }
 ],
 "metadata": {
  "colab": {
   "name": "homework-practice-01-pandas.ipynb",
   "provenance": []
  },
  "kernelspec": {
   "display_name": "Python 3 (ipykernel)",
   "language": "python",
   "name": "python3"
  },
  "language_info": {
   "codemirror_mode": {
    "name": "ipython",
    "version": 3
   },
   "file_extension": ".py",
   "mimetype": "text/x-python",
   "name": "python",
   "nbconvert_exporter": "python",
   "pygments_lexer": "ipython3",
   "version": "3.9.12"
  },
  "varInspector": {
   "cols": {
    "lenName": 16,
    "lenType": 16,
    "lenVar": 40
   },
   "kernels_config": {
    "python": {
     "delete_cmd_postfix": "",
     "delete_cmd_prefix": "del ",
     "library": "var_list.py",
     "varRefreshCmd": "print(var_dic_list())"
    },
    "r": {
     "delete_cmd_postfix": ") ",
     "delete_cmd_prefix": "rm(",
     "library": "var_list.r",
     "varRefreshCmd": "cat(var_dic_list()) "
    }
   },
   "types_to_exclude": [
    "module",
    "function",
    "builtin_function_or_method",
    "instance",
    "_Feature"
   ],
   "window_display": false
  },
  "vscode": {
   "interpreter": {
    "hash": "e7370f93d1d0cde622a1f8e1c04877d8463912d04d973331ad4851f04de6915a"
   }
  }
 },
 "nbformat": 4,
 "nbformat_minor": 1
}
