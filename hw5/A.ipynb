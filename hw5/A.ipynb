{
 "cells": [
  {
   "cell_type": "code",
   "execution_count": 1,
   "id": "e3e42cab",
   "metadata": {},
   "outputs": [],
   "source": [
    "import pandas as pd\n",
    "from hw5code import *\n",
    "from tree import *\n",
    "from a import *"
   ]
  },
  {
   "cell_type": "code",
   "execution_count": 15,
   "id": "1a333d11",
   "metadata": {},
   "outputs": [
    {
     "data": {
      "text/plain": [
       "array([False, False,  True, False, False,  True])"
      ]
     },
     "execution_count": 15,
     "metadata": {},
     "output_type": "execute_result"
    }
   ],
   "source": [
    "import numpy as np\n",
    "a = np.array([1, 2, 3, 2 ,1 , 5])\n",
    "b = a > 2\n",
    "b"
   ]
  },
  {
   "cell_type": "code",
   "execution_count": 20,
   "id": "2d4dcbb3",
   "metadata": {},
   "outputs": [
    {
     "data": {
      "text/plain": [
       "[1, 2, 3]"
      ]
     },
     "execution_count": 20,
     "metadata": {},
     "output_type": "execute_result"
    }
   ],
   "source": [
    "c = []\n",
    "for i in range(4):\n",
    "    c.append([1, 2, 3])\n",
    "    \n",
    "c[0]"
   ]
  },
  {
   "cell_type": "code",
   "execution_count": 17,
   "id": "fab892a8",
   "metadata": {},
   "outputs": [
    {
     "data": {
      "text/html": [
       "<div>\n",
       "<style scoped>\n",
       "    .dataframe tbody tr th:only-of-type {\n",
       "        vertical-align: middle;\n",
       "    }\n",
       "\n",
       "    .dataframe tbody tr th {\n",
       "        vertical-align: top;\n",
       "    }\n",
       "\n",
       "    .dataframe thead th {\n",
       "        text-align: right;\n",
       "    }\n",
       "</style>\n",
       "<table border=\"1\" class=\"dataframe\">\n",
       "  <thead>\n",
       "    <tr style=\"text-align: right;\">\n",
       "      <th></th>\n",
       "      <th>0</th>\n",
       "      <th>1</th>\n",
       "      <th>2</th>\n",
       "    </tr>\n",
       "  </thead>\n",
       "  <tbody>\n",
       "    <tr>\n",
       "      <th>1</th>\n",
       "      <td>1</td>\n",
       "      <td>0</td>\n",
       "      <td>1</td>\n",
       "    </tr>\n",
       "    <tr>\n",
       "      <th>0</th>\n",
       "      <td>4</td>\n",
       "      <td>2</td>\n",
       "      <td>3</td>\n",
       "    </tr>\n",
       "  </tbody>\n",
       "</table>\n",
       "</div>"
      ],
      "text/plain": [
       "   0  1  2\n",
       "1  1  0  1\n",
       "0  4  2  3"
      ]
     },
     "execution_count": 17,
     "metadata": {},
     "output_type": "execute_result"
    }
   ],
   "source": [
    "A = np.array([4, 2, 3])\n",
    "B = np.array([1, 0, 1])\n",
    "data = pd.DataFrame([A, B])\n",
    "data.sort_values(by=0, inplace=True)\n",
    "data"
   ]
  },
  {
   "cell_type": "code",
   "execution_count": 4,
   "id": "b91c8a91",
   "metadata": {},
   "outputs": [],
   "source": [
    "train1 = pd.read_csv('train1.csv', sep=' ')\n"
   ]
  },
  {
   "cell_type": "code",
   "execution_count": 5,
   "id": "d1ffea90",
   "metadata": {},
   "outputs": [],
   "source": [
    "train1\n",
    "y = np.array(train1[['ans']].values)\n",
    "y = y.flatten()\n"
   ]
  },
  {
   "cell_type": "code",
   "execution_count": 6,
   "id": "c1d98e38",
   "metadata": {},
   "outputs": [
    {
     "data": {
      "text/plain": [
       "array([[ 1.56963721e-02,  2.00000000e+00,  1.24712954e-01,\n",
       "         1.00000000e+00,  0.00000000e+00],\n",
       "       [-2.24268495e+00,  1.00000000e+00, -3.22794806e-01,\n",
       "         2.00000000e+00,  0.00000000e+00],\n",
       "       [ 1.15003572e+00,  2.00000000e+00,  8.41674713e-01,\n",
       "         2.00000000e+00,  1.00000000e+00],\n",
       "       [ 9.91946022e-01,  0.00000000e+00,  2.39096052e+00,\n",
       "         1.00000000e+00,  0.00000000e+00],\n",
       "       [ 9.53324128e-01,  2.00000000e+00,  7.61995878e-02,\n",
       "         2.00000000e+00,  1.00000000e+00],\n",
       "       [-2.02125482e+00,  2.00000000e+00, -5.66445930e-01,\n",
       "         0.00000000e+00,  2.00000000e+00],\n",
       "       [-3.34077366e-01,  0.00000000e+00,  3.61419367e-02,\n",
       "         1.00000000e+00,  1.00000000e+00],\n",
       "       [ 2.11836468e-03,  1.00000000e+00, -2.07497760e+00,\n",
       "         0.00000000e+00,  1.00000000e+00],\n",
       "       [ 4.05453412e-01,  1.00000000e+00,  2.47792200e-01,\n",
       "         1.00000000e+00,  2.00000000e+00],\n",
       "       [ 2.89091941e-01,  0.00000000e+00, -8.97156784e-01,\n",
       "         2.00000000e+00,  2.00000000e+00]])"
      ]
     },
     "execution_count": 6,
     "metadata": {},
     "output_type": "execute_result"
    }
   ],
   "source": [
    "X = train1.copy()\n",
    "X = X.values\n",
    "X = X[:, :-1]\n",
    "X"
   ]
  },
  {
   "cell_type": "code",
   "execution_count": 7,
   "id": "1db6a368",
   "metadata": {},
   "outputs": [
    {
     "name": "stdout",
     "output_type": "stream",
     "text": [
      "0\n",
      "1\n",
      "2\n",
      "3\n",
      "4\n"
     ]
    }
   ],
   "source": [
    "for feature in range(X.shape[1]):\n",
    "    print(feature)"
   ]
  },
  {
   "cell_type": "code",
   "execution_count": 8,
   "id": "e93c38c6",
   "metadata": {},
   "outputs": [],
   "source": [
    "t1 = DecisionTree(feature_types=['real', 'categorical', 'real', 'categorical', 'categorical'])\n",
    "t2 = DecisionTree1(feature_types=['real', 'categorical', 'real', 'categorical', 'categorical'])"
   ]
  },
  {
   "cell_type": "code",
   "execution_count": 9,
   "id": "b695069b",
   "metadata": {
    "scrolled": true
   },
   "outputs": [
    {
     "name": "stdout",
     "output_type": "stream",
     "text": [
      "start_fit\n",
      "[[ 1.56963721e-02  2.00000000e+00  1.24712954e-01  1.00000000e+00\n",
      "   0.00000000e+00]\n",
      " [-2.24268495e+00  1.00000000e+00 -3.22794806e-01  2.00000000e+00\n",
      "   0.00000000e+00]\n",
      " [ 1.15003572e+00  2.00000000e+00  8.41674713e-01  2.00000000e+00\n",
      "   1.00000000e+00]\n",
      " [ 9.91946022e-01  0.00000000e+00  2.39096052e+00  1.00000000e+00\n",
      "   0.00000000e+00]\n",
      " [ 9.53324128e-01  2.00000000e+00  7.61995878e-02  2.00000000e+00\n",
      "   1.00000000e+00]\n",
      " [-2.02125482e+00  2.00000000e+00 -5.66445930e-01  0.00000000e+00\n",
      "   2.00000000e+00]\n",
      " [-3.34077366e-01  0.00000000e+00  3.61419367e-02  1.00000000e+00\n",
      "   1.00000000e+00]\n",
      " [ 2.11836468e-03  1.00000000e+00 -2.07497760e+00  0.00000000e+00\n",
      "   1.00000000e+00]\n",
      " [ 4.05453412e-01  1.00000000e+00  2.47792200e-01  1.00000000e+00\n",
      "   2.00000000e+00]\n",
      " [ 2.89091941e-01  0.00000000e+00 -8.97156784e-01  2.00000000e+00\n",
      "   2.00000000e+00]]\n",
      "глубина 1 признак 0 холды [-2.13196989 -1.17766609 -0.1659795   0.00890737  0.15239416  0.34727268\n",
      "  0.67938877  0.97263508  1.07099087] джины [-0.31111111 -0.4        -0.41904762 -0.41666667 -0.4        -0.41666667\n",
      " -0.41904762 -0.375      -0.4       ]\n",
      "глубина 1 признак 1 холды [0.5 1.5] джины [-0.34285714 -0.36666667]\n",
      "глубина 1 признак 2 холды [-1.48606719 -0.73180136 -0.44462037 -0.14332643  0.05617076  0.10045627\n",
      "  0.18625258  0.54473346  1.61631761] джины [-0.4        -0.375      -0.34285714 -0.41666667 -0.4        -0.41666667\n",
      " -0.34285714 -0.375      -0.4       ]\n",
      "глубина 1 признак 3 холды [0.5 1.5] джины [-0.375      -0.36666667]\n",
      "глубина 1 признак 4 холды [0.5 1.5] джины [-0.34285714 -0.3047619 ]\n",
      "[[ 1.15003572  2.          0.84167471  2.          1.        ]\n",
      " [ 0.95332413  2.          0.07619959  2.          1.        ]\n",
      " [-2.02125482  2.         -0.56644593  0.          2.        ]\n",
      " [-0.33407737  0.          0.03614194  1.          1.        ]\n",
      " [ 0.00211836  1.         -2.0749776   0.          1.        ]\n",
      " [ 0.40545341  1.          0.2477922   1.          2.        ]\n",
      " [ 0.28909194  0.         -0.89715678  2.          2.        ]]\n",
      "глубина 2 признак 0 холды [-1.17766609 -0.1659795   0.14560515  0.34727268  0.67938877  1.05167993] джины [-0.23809524 -0.22857143 -0.21428571 -0.19047619 -0.14285714 -0.23809524]\n",
      "глубина 2 признак 1 холды [0.5 1.5] джины [-0.22857143 -0.19047619]\n",
      "глубина 2 признак 2 холды [-1.48606719 -0.73180136 -0.265152    0.05617076  0.16199589  0.54473346] джины [-0.23809524 -0.22857143 -0.21428571 -0.19047619 -0.22857143 -0.23809524]\n",
      "глубина 2 признак 3 холды [0.5 1.5] джины [-0.22857143 -0.19047619]\n",
      "глубина 2 признак 4 холды [0.5] джины [-0.21428571]\n",
      "[[1.15003572 2.         0.84167471 2.         1.        ]\n",
      " [0.95332413 2.         0.07619959 2.         1.        ]]\n",
      "глубина 3 признак 0 холды [1.05167993] джины [-0.]\n",
      "глубина 3 признак 2 холды [0.45893715] джины [-0.]\n",
      "[[ 0.01569637  2.          0.12471295  1.          0.        ]\n",
      " [-2.24268495  1.         -0.32279481  2.          0.        ]\n",
      " [ 0.99194602  0.          2.39096052  1.          0.        ]]\n",
      "глубина 2 признак 0 холды [-1.11349429  0.5038212 ] джины [-0.33333333 -0.        ]\n",
      "глубина 2 признак 1 холды [0.5 1.5] джины [-0.         -0.33333333]\n",
      "глубина 2 признак 2 холды [-0.09904093  1.25783673] джины [-0.33333333 -0.        ]\n",
      "глубина 2 признак 3 холды [0.5] джины [-0.33333333]\n"
     ]
    }
   ],
   "source": [
    "\n",
    "t2.fit(X, y)"
   ]
  },
  {
   "cell_type": "code",
   "execution_count": 10,
   "id": "642e9c1b",
   "metadata": {},
   "outputs": [],
   "source": [
    "t1.fit(X, y)"
   ]
  },
  {
   "cell_type": "code",
   "execution_count": 11,
   "id": "dd486e05",
   "metadata": {},
   "outputs": [
    {
     "data": {
      "text/plain": [
       "{'depth': 1,\n",
       " 'type': 'nonterminal',\n",
       " 'feature_split': 4,\n",
       " 'categories_split': [2.0, 1.0],\n",
       " 'left_child': {'depth': 2,\n",
       "  'type': 'nonterminal',\n",
       "  'feature_split': 0,\n",
       "  'threshold': 0.6793887698413107,\n",
       "  'left_child': {'depth': 3, 'type': 'terminal', 'class': 0},\n",
       "  'right_child': {'depth': 3,\n",
       "   'type': 'nonterminal',\n",
       "   'feature_split': 0,\n",
       "   'threshold': 1.0516799264161243,\n",
       "   'left_child': {'depth': 4, 'type': 'terminal', 'class': 1},\n",
       "   'right_child': {'depth': 4, 'type': 'terminal', 'class': 0}}},\n",
       " 'right_child': {'depth': 2,\n",
       "  'type': 'nonterminal',\n",
       "  'feature_split': 0,\n",
       "  'threshold': 0.5038211972285533,\n",
       "  'left_child': {'depth': 3, 'type': 'terminal', 'class': 1},\n",
       "  'right_child': {'depth': 3, 'type': 'terminal', 'class': 0}}}"
      ]
     },
     "execution_count": 11,
     "metadata": {},
     "output_type": "execute_result"
    }
   ],
   "source": [
    "t1._tree"
   ]
  },
  {
   "cell_type": "code",
   "execution_count": 12,
   "id": "c7b636e9",
   "metadata": {},
   "outputs": [
    {
     "data": {
      "text/plain": [
       "{'depth': 1,\n",
       " 'type': 'nonterminal',\n",
       " 'feature_split': 4,\n",
       " 'categories_split': [2.0, 1.0],\n",
       " 'left_child': {'depth': 2,\n",
       "  'type': 'nonterminal',\n",
       "  'feature_split': 0,\n",
       "  'threshold': 0.6793887698413107,\n",
       "  'left_child': {'depth': 3, 'type': 'terminal', 'class': 0},\n",
       "  'right_child': {'depth': 3,\n",
       "   'type': 'nonterminal',\n",
       "   'feature_split': 0,\n",
       "   'threshold': 1.0516799264161243,\n",
       "   'left_child': {'depth': 4, 'type': 'terminal', 'class': 1},\n",
       "   'right_child': {'depth': 4, 'type': 'terminal', 'class': 0}}},\n",
       " 'right_child': {'depth': 2,\n",
       "  'type': 'nonterminal',\n",
       "  'feature_split': 0,\n",
       "  'threshold': 0.5038211972285533,\n",
       "  'left_child': {'depth': 3, 'type': 'terminal', 'class': 1},\n",
       "  'right_child': {'depth': 3, 'type': 'terminal', 'class': 0}}}"
      ]
     },
     "execution_count": 12,
     "metadata": {},
     "output_type": "execute_result"
    }
   ],
   "source": [
    "t2._tree"
   ]
  },
  {
   "cell_type": "code",
   "execution_count": 13,
   "id": "abd56445",
   "metadata": {},
   "outputs": [
    {
     "name": "stdout",
     "output_type": "stream",
     "text": [
      "--2022-12-02 23:40:54--  https://archive.ics.uci.edu/ml/machine-learning-databases/mushroom/agaricus-lepiota.data\n",
      "Resolving archive.ics.uci.edu (archive.ics.uci.edu)... 128.195.10.252\n",
      "Connecting to archive.ics.uci.edu (archive.ics.uci.edu)|128.195.10.252|:443... connected.\n",
      "HTTP request sent, awaiting response... 200 OK\n",
      "Length: 373704 (365K) [application/x-httpd-php]\n",
      "Saving to: 'data.csv'\n",
      "\n",
      "data.csv            100%[===================>] 364.95K   469KB/s    in 0.8s    \n",
      "\n",
      "2022-12-02 23:40:56 (469 KB/s) - 'data.csv' saved [373704/373704]\n",
      "\n"
     ]
    }
   ],
   "source": [
    "!wget https://archive.ics.uci.edu/ml/machine-learning-databases/mushroom/agaricus-lepiota.data -O data.csv"
   ]
  },
  {
   "cell_type": "code",
   "execution_count": null,
   "id": "d6e733d6",
   "metadata": {},
   "outputs": [],
   "source": []
  }
 ],
 "metadata": {
  "kernelspec": {
   "display_name": "Python 3 (ipykernel)",
   "language": "python",
   "name": "python3"
  },
  "language_info": {
   "codemirror_mode": {
    "name": "ipython",
    "version": 3
   },
   "file_extension": ".py",
   "mimetype": "text/x-python",
   "name": "python",
   "nbconvert_exporter": "python",
   "pygments_lexer": "ipython3",
   "version": "3.9.12"
  }
 },
 "nbformat": 4,
 "nbformat_minor": 5
}
